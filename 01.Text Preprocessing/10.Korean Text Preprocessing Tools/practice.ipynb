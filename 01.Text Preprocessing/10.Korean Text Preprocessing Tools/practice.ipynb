{
 "cells": [
  {
   "cell_type": "code",
   "execution_count": 1,
   "metadata": {},
   "outputs": [
    {
     "name": "stdout",
     "output_type": "stream",
     "text": [
      "Collecting git+https://github.com/haven-jeon/PyKoSpacing.git\n",
      "  Cloning https://github.com/haven-jeon/PyKoSpacing.git to c:\\users\\jack\\appdata\\local\\temp\\pip-req-build-ce21o39i\n",
      "  Resolved https://github.com/haven-jeon/PyKoSpacing.git to commit 04aeebcbe26b109486a642e57dc58665c4818cf3\n",
      "  Preparing metadata (setup.py): started\n",
      "  Preparing metadata (setup.py): finished with status 'done'\n",
      "Requirement already satisfied: tensorflow==2.11.1 in c:\\users\\jack\\miniconda3\\envs\\jkdev\\lib\\site-packages (from pykospacing==0.5) (2.11.1)\n",
      "Requirement already satisfied: h5py==3.10.0 in c:\\users\\jack\\miniconda3\\envs\\jkdev\\lib\\site-packages (from pykospacing==0.5) (3.10.0)\n",
      "Collecting argparse>=1.4.0 (from pykospacing==0.5)\n",
      "  Using cached argparse-1.4.0-py2.py3-none-any.whl (23 kB)\n",
      "Requirement already satisfied: numpy>=1.17.3 in c:\\users\\jack\\miniconda3\\envs\\jkdev\\lib\\site-packages (from h5py==3.10.0->pykospacing==0.5) (1.26.3)\n",
      "Requirement already satisfied: tensorflow-intel==2.11.1 in c:\\users\\jack\\miniconda3\\envs\\jkdev\\lib\\site-packages (from tensorflow==2.11.1->pykospacing==0.5) (2.11.1)\n",
      "Requirement already satisfied: absl-py>=1.0.0 in c:\\users\\jack\\miniconda3\\envs\\jkdev\\lib\\site-packages (from tensorflow-intel==2.11.1->tensorflow==2.11.1->pykospacing==0.5) (2.0.0)\n",
      "Requirement already satisfied: astunparse>=1.6.0 in c:\\users\\jack\\miniconda3\\envs\\jkdev\\lib\\site-packages (from tensorflow-intel==2.11.1->tensorflow==2.11.1->pykospacing==0.5) (1.6.3)\n",
      "Requirement already satisfied: flatbuffers>=2.0 in c:\\users\\jack\\miniconda3\\envs\\jkdev\\lib\\site-packages (from tensorflow-intel==2.11.1->tensorflow==2.11.1->pykospacing==0.5) (23.5.26)\n",
      "Requirement already satisfied: gast<=0.4.0,>=0.2.1 in c:\\users\\jack\\miniconda3\\envs\\jkdev\\lib\\site-packages (from tensorflow-intel==2.11.1->tensorflow==2.11.1->pykospacing==0.5) (0.4.0)\n",
      "Requirement already satisfied: google-pasta>=0.1.1 in c:\\users\\jack\\miniconda3\\envs\\jkdev\\lib\\site-packages (from tensorflow-intel==2.11.1->tensorflow==2.11.1->pykospacing==0.5) (0.2.0)\n",
      "Requirement already satisfied: libclang>=13.0.0 in c:\\users\\jack\\miniconda3\\envs\\jkdev\\lib\\site-packages (from tensorflow-intel==2.11.1->tensorflow==2.11.1->pykospacing==0.5) (16.0.6)\n",
      "Requirement already satisfied: opt-einsum>=2.3.2 in c:\\users\\jack\\miniconda3\\envs\\jkdev\\lib\\site-packages (from tensorflow-intel==2.11.1->tensorflow==2.11.1->pykospacing==0.5) (3.3.0)\n",
      "Requirement already satisfied: packaging in c:\\users\\jack\\miniconda3\\envs\\jkdev\\lib\\site-packages (from tensorflow-intel==2.11.1->tensorflow==2.11.1->pykospacing==0.5) (23.2)\n",
      "Requirement already satisfied: protobuf<3.20,>=3.9.2 in c:\\users\\jack\\miniconda3\\envs\\jkdev\\lib\\site-packages (from tensorflow-intel==2.11.1->tensorflow==2.11.1->pykospacing==0.5) (3.19.6)\n",
      "Requirement already satisfied: setuptools in c:\\users\\jack\\miniconda3\\envs\\jkdev\\lib\\site-packages (from tensorflow-intel==2.11.1->tensorflow==2.11.1->pykospacing==0.5) (68.2.2)\n",
      "Requirement already satisfied: six>=1.12.0 in c:\\users\\jack\\miniconda3\\envs\\jkdev\\lib\\site-packages (from tensorflow-intel==2.11.1->tensorflow==2.11.1->pykospacing==0.5) (1.16.0)\n",
      "Requirement already satisfied: termcolor>=1.1.0 in c:\\users\\jack\\miniconda3\\envs\\jkdev\\lib\\site-packages (from tensorflow-intel==2.11.1->tensorflow==2.11.1->pykospacing==0.5) (2.4.0)\n",
      "Requirement already satisfied: typing-extensions>=3.6.6 in c:\\users\\jack\\miniconda3\\envs\\jkdev\\lib\\site-packages (from tensorflow-intel==2.11.1->tensorflow==2.11.1->pykospacing==0.5) (4.9.0)\n",
      "Requirement already satisfied: wrapt>=1.11.0 in c:\\users\\jack\\miniconda3\\envs\\jkdev\\lib\\site-packages (from tensorflow-intel==2.11.1->tensorflow==2.11.1->pykospacing==0.5) (1.14.1)\n",
      "Requirement already satisfied: grpcio<2.0,>=1.24.3 in c:\\users\\jack\\miniconda3\\envs\\jkdev\\lib\\site-packages (from tensorflow-intel==2.11.1->tensorflow==2.11.1->pykospacing==0.5) (1.60.0)\n",
      "Requirement already satisfied: tensorboard<2.12,>=2.11 in c:\\users\\jack\\miniconda3\\envs\\jkdev\\lib\\site-packages (from tensorflow-intel==2.11.1->tensorflow==2.11.1->pykospacing==0.5) (2.11.2)\n",
      "Requirement already satisfied: tensorflow-estimator<2.12,>=2.11.0 in c:\\users\\jack\\miniconda3\\envs\\jkdev\\lib\\site-packages (from tensorflow-intel==2.11.1->tensorflow==2.11.1->pykospacing==0.5) (2.11.0)\n",
      "Requirement already satisfied: keras<2.12,>=2.11.0 in c:\\users\\jack\\miniconda3\\envs\\jkdev\\lib\\site-packages (from tensorflow-intel==2.11.1->tensorflow==2.11.1->pykospacing==0.5) (2.11.0)\n",
      "Requirement already satisfied: tensorflow-io-gcs-filesystem>=0.23.1 in c:\\users\\jack\\miniconda3\\envs\\jkdev\\lib\\site-packages (from tensorflow-intel==2.11.1->tensorflow==2.11.1->pykospacing==0.5) (0.31.0)\n",
      "Requirement already satisfied: wheel<1.0,>=0.23.0 in c:\\users\\jack\\miniconda3\\envs\\jkdev\\lib\\site-packages (from astunparse>=1.6.0->tensorflow-intel==2.11.1->tensorflow==2.11.1->pykospacing==0.5) (0.41.2)\n",
      "Requirement already satisfied: google-auth<3,>=1.6.3 in c:\\users\\jack\\miniconda3\\envs\\jkdev\\lib\\site-packages (from tensorboard<2.12,>=2.11->tensorflow-intel==2.11.1->tensorflow==2.11.1->pykospacing==0.5) (2.26.2)\n",
      "Requirement already satisfied: google-auth-oauthlib<0.5,>=0.4.1 in c:\\users\\jack\\miniconda3\\envs\\jkdev\\lib\\site-packages (from tensorboard<2.12,>=2.11->tensorflow-intel==2.11.1->tensorflow==2.11.1->pykospacing==0.5) (0.4.6)\n",
      "Requirement already satisfied: markdown>=2.6.8 in c:\\users\\jack\\miniconda3\\envs\\jkdev\\lib\\site-packages (from tensorboard<2.12,>=2.11->tensorflow-intel==2.11.1->tensorflow==2.11.1->pykospacing==0.5) (3.5.2)\n",
      "Requirement already satisfied: requests<3,>=2.21.0 in c:\\users\\jack\\miniconda3\\envs\\jkdev\\lib\\site-packages (from tensorboard<2.12,>=2.11->tensorflow-intel==2.11.1->tensorflow==2.11.1->pykospacing==0.5) (2.31.0)\n",
      "Requirement already satisfied: tensorboard-data-server<0.7.0,>=0.6.0 in c:\\users\\jack\\miniconda3\\envs\\jkdev\\lib\\site-packages (from tensorboard<2.12,>=2.11->tensorflow-intel==2.11.1->tensorflow==2.11.1->pykospacing==0.5) (0.6.1)\n",
      "Requirement already satisfied: tensorboard-plugin-wit>=1.6.0 in c:\\users\\jack\\miniconda3\\envs\\jkdev\\lib\\site-packages (from tensorboard<2.12,>=2.11->tensorflow-intel==2.11.1->tensorflow==2.11.1->pykospacing==0.5) (1.8.1)\n",
      "Requirement already satisfied: werkzeug>=1.0.1 in c:\\users\\jack\\miniconda3\\envs\\jkdev\\lib\\site-packages (from tensorboard<2.12,>=2.11->tensorflow-intel==2.11.1->tensorflow==2.11.1->pykospacing==0.5) (3.0.1)\n",
      "Requirement already satisfied: cachetools<6.0,>=2.0.0 in c:\\users\\jack\\miniconda3\\envs\\jkdev\\lib\\site-packages (from google-auth<3,>=1.6.3->tensorboard<2.12,>=2.11->tensorflow-intel==2.11.1->tensorflow==2.11.1->pykospacing==0.5) (5.3.2)\n",
      "Requirement already satisfied: pyasn1-modules>=0.2.1 in c:\\users\\jack\\miniconda3\\envs\\jkdev\\lib\\site-packages (from google-auth<3,>=1.6.3->tensorboard<2.12,>=2.11->tensorflow-intel==2.11.1->tensorflow==2.11.1->pykospacing==0.5) (0.3.0)\n",
      "Requirement already satisfied: rsa<5,>=3.1.4 in c:\\users\\jack\\miniconda3\\envs\\jkdev\\lib\\site-packages (from google-auth<3,>=1.6.3->tensorboard<2.12,>=2.11->tensorflow-intel==2.11.1->tensorflow==2.11.1->pykospacing==0.5) (4.9)\n",
      "Requirement already satisfied: requests-oauthlib>=0.7.0 in c:\\users\\jack\\miniconda3\\envs\\jkdev\\lib\\site-packages (from google-auth-oauthlib<0.5,>=0.4.1->tensorboard<2.12,>=2.11->tensorflow-intel==2.11.1->tensorflow==2.11.1->pykospacing==0.5) (1.3.1)\n",
      "Requirement already satisfied: importlib-metadata>=4.4 in c:\\users\\jack\\miniconda3\\envs\\jkdev\\lib\\site-packages (from markdown>=2.6.8->tensorboard<2.12,>=2.11->tensorflow-intel==2.11.1->tensorflow==2.11.1->pykospacing==0.5) (7.0.1)\n",
      "Requirement already satisfied: charset-normalizer<4,>=2 in c:\\users\\jack\\miniconda3\\envs\\jkdev\\lib\\site-packages (from requests<3,>=2.21.0->tensorboard<2.12,>=2.11->tensorflow-intel==2.11.1->tensorflow==2.11.1->pykospacing==0.5) (3.3.2)\n",
      "Requirement already satisfied: idna<4,>=2.5 in c:\\users\\jack\\miniconda3\\envs\\jkdev\\lib\\site-packages (from requests<3,>=2.21.0->tensorboard<2.12,>=2.11->tensorflow-intel==2.11.1->tensorflow==2.11.1->pykospacing==0.5) (3.6)\n",
      "Requirement already satisfied: urllib3<3,>=1.21.1 in c:\\users\\jack\\miniconda3\\envs\\jkdev\\lib\\site-packages (from requests<3,>=2.21.0->tensorboard<2.12,>=2.11->tensorflow-intel==2.11.1->tensorflow==2.11.1->pykospacing==0.5) (2.1.0)\n",
      "Requirement already satisfied: certifi>=2017.4.17 in c:\\users\\jack\\miniconda3\\envs\\jkdev\\lib\\site-packages (from requests<3,>=2.21.0->tensorboard<2.12,>=2.11->tensorflow-intel==2.11.1->tensorflow==2.11.1->pykospacing==0.5) (2023.11.17)\n",
      "Requirement already satisfied: MarkupSafe>=2.1.1 in c:\\users\\jack\\miniconda3\\envs\\jkdev\\lib\\site-packages (from werkzeug>=1.0.1->tensorboard<2.12,>=2.11->tensorflow-intel==2.11.1->tensorflow==2.11.1->pykospacing==0.5) (2.1.3)\n",
      "Requirement already satisfied: zipp>=0.5 in c:\\users\\jack\\miniconda3\\envs\\jkdev\\lib\\site-packages (from importlib-metadata>=4.4->markdown>=2.6.8->tensorboard<2.12,>=2.11->tensorflow-intel==2.11.1->tensorflow==2.11.1->pykospacing==0.5) (3.17.0)\n",
      "Requirement already satisfied: pyasn1<0.6.0,>=0.4.6 in c:\\users\\jack\\miniconda3\\envs\\jkdev\\lib\\site-packages (from pyasn1-modules>=0.2.1->google-auth<3,>=1.6.3->tensorboard<2.12,>=2.11->tensorflow-intel==2.11.1->tensorflow==2.11.1->pykospacing==0.5) (0.5.1)\n",
      "Requirement already satisfied: oauthlib>=3.0.0 in c:\\users\\jack\\miniconda3\\envs\\jkdev\\lib\\site-packages (from requests-oauthlib>=0.7.0->google-auth-oauthlib<0.5,>=0.4.1->tensorboard<2.12,>=2.11->tensorflow-intel==2.11.1->tensorflow==2.11.1->pykospacing==0.5) (3.2.2)\n",
      "Installing collected packages: argparse\n",
      "Successfully installed argparse-1.4.0\n"
     ]
    },
    {
     "name": "stderr",
     "output_type": "stream",
     "text": [
      "  Running command git clone --filter=blob:none --quiet https://github.com/haven-jeon/PyKoSpacing.git 'C:\\Users\\Jack\\AppData\\Local\\Temp\\pip-req-build-ce21o39i'\n"
     ]
    }
   ],
   "source": [
    "# 이건 한국어 띄어쓰기 패키지!\n",
    "! pip install git+https://github.com/haven-jeon/PyKoSpacing.git"
   ]
  },
  {
   "cell_type": "code",
   "execution_count": 2,
   "metadata": {},
   "outputs": [
    {
     "name": "stdout",
     "output_type": "stream",
     "text": [
      "어차피내한국어가완벽하지않으니이패키지를사용하면내띄어쓰기가얼마나잘맞는지확인해볼수있겠구나.쿠키는고양이고동결건조치킨간식을좋아하며하루에15개씩먹고있는돼지고양이입니다.\n"
     ]
    }
   ],
   "source": [
    "txt = '어차피 내 한국어가 완벽하지 않으니 이 패키지를 사용하면 내 띄어쓰기가 얼마나 잘 맞는지 확인 해 볼 수 있겠구나. 쿠키는 고양이고 동결 건조 치킨간식을 좋아하며 하루에 15개씩 먹고 있는 돼지고양이입니다.'\n",
    "tmp_txt = txt.replace(' ','')\n",
    "print(tmp_txt) "
   ]
  },
  {
   "cell_type": "code",
   "execution_count": 3,
   "metadata": {},
   "outputs": [
    {
     "name": "stdout",
     "output_type": "stream",
     "text": [
      "어차피 내 한국어가 완벽하지 않으니 이 패키지를 사용하면 내 띄어쓰기가 얼마나 잘 맞는지 확인 해 볼 수 있겠구나. 쿠키는 고양이고 동결 건조 치킨간식을 좋아하며 하루에 15개씩 먹고 있는 돼지고양이입니다.\n",
      "어차피 내 한국어가 완벽하지 않으니 이 패키지를 사용하면 내 띄어 쓰기가 얼마나 잘 맞는지 확인해 볼 수 있겠구나. 쿠키는 고양이고 동결건조치킨 간식을 좋아하며 하루에 15개씩 먹고 있는 돼지고양이입니다.\n"
     ]
    }
   ],
   "source": [
    "from pykospacing import Spacing\n",
    "space = Spacing()\n",
    "k_txt = space(tmp_txt)\n",
    "print(txt)\n",
    "print(k_txt)"
   ]
  },
  {
   "cell_type": "code",
   "execution_count": 4,
   "metadata": {},
   "outputs": [
    {
     "name": "stderr",
     "output_type": "stream",
     "text": [
      "'git+https:'��(��) ���� �Ǵ� �ܺ� ����, ������ �� �ִ� ���α׷�, �Ǵ�\n",
      "��ġ ������ �ƴմϴ�.\n"
     ]
    }
   ],
   "source": [
    "! git+https://github.com/ssut/py-hanspell.git"
   ]
  },
  {
   "cell_type": "code",
   "execution_count": 12,
   "metadata": {},
   "outputs": [
    {
     "ename": "KeyError",
     "evalue": "'result'",
     "output_type": "error",
     "traceback": [
      "\u001b[1;31m---------------------------------------------------------------------------\u001b[0m",
      "\u001b[1;31mKeyError\u001b[0m                                  Traceback (most recent call last)",
      "Cell \u001b[1;32mIn[12], line 4\u001b[0m\n\u001b[0;32m      1\u001b[0m \u001b[38;5;66;03m# 네이버 한글 맞춤법 검사기를 바탕으로 만들어진 패키지\u001b[39;00m\n\u001b[0;32m      2\u001b[0m \u001b[38;5;28;01mfrom\u001b[39;00m \u001b[38;5;21;01mhanspell\u001b[39;00m \u001b[38;5;28;01mimport\u001b[39;00m spell_checker\n\u001b[1;32m----> 4\u001b[0m result \u001b[38;5;241m=\u001b[39m \u001b[43mspell_checker\u001b[49m\u001b[38;5;241;43m.\u001b[39;49m\u001b[43mcheck\u001b[49m\u001b[43m(\u001b[49m\u001b[38;5;124;43m'\u001b[39;49m\u001b[38;5;124;43m맞춤법이 틀러도 괜참지 않나 안그래 쓰고싶으되로 쓰면 돼지\u001b[39;49m\u001b[38;5;124;43m'\u001b[39;49m\u001b[43m)\u001b[49m\n\u001b[0;32m      5\u001b[0m \u001b[38;5;28mprint\u001b[39m(result\u001b[38;5;241m.\u001b[39mas_dict())\n",
      "File \u001b[1;32mc:\\Users\\Jack\\miniconda3\\envs\\jkdev\\lib\\site-packages\\hanspell\\spell_checker.py:62\u001b[0m, in \u001b[0;36mcheck\u001b[1;34m(text)\u001b[0m\n\u001b[0;32m     59\u001b[0m passed_time \u001b[38;5;241m=\u001b[39m time\u001b[38;5;241m.\u001b[39mtime() \u001b[38;5;241m-\u001b[39m start_time\n\u001b[0;32m     61\u001b[0m data \u001b[38;5;241m=\u001b[39m json\u001b[38;5;241m.\u001b[39mloads(r\u001b[38;5;241m.\u001b[39mtext)\n\u001b[1;32m---> 62\u001b[0m html \u001b[38;5;241m=\u001b[39m \u001b[43mdata\u001b[49m\u001b[43m[\u001b[49m\u001b[38;5;124;43m'\u001b[39;49m\u001b[38;5;124;43mmessage\u001b[39;49m\u001b[38;5;124;43m'\u001b[39;49m\u001b[43m]\u001b[49m\u001b[43m[\u001b[49m\u001b[38;5;124;43m'\u001b[39;49m\u001b[38;5;124;43mresult\u001b[39;49m\u001b[38;5;124;43m'\u001b[39;49m\u001b[43m]\u001b[49m[\u001b[38;5;124m'\u001b[39m\u001b[38;5;124mhtml\u001b[39m\u001b[38;5;124m'\u001b[39m]\n\u001b[0;32m     63\u001b[0m result \u001b[38;5;241m=\u001b[39m {\n\u001b[0;32m     64\u001b[0m     \u001b[38;5;124m'\u001b[39m\u001b[38;5;124mresult\u001b[39m\u001b[38;5;124m'\u001b[39m: \u001b[38;5;28;01mTrue\u001b[39;00m,\n\u001b[0;32m     65\u001b[0m     \u001b[38;5;124m'\u001b[39m\u001b[38;5;124moriginal\u001b[39m\u001b[38;5;124m'\u001b[39m: text,\n\u001b[1;32m   (...)\u001b[0m\n\u001b[0;32m     69\u001b[0m     \u001b[38;5;124m'\u001b[39m\u001b[38;5;124mwords\u001b[39m\u001b[38;5;124m'\u001b[39m: OrderedDict(),\n\u001b[0;32m     70\u001b[0m }\n\u001b[0;32m     72\u001b[0m \u001b[38;5;66;03m# 띄어쓰기로 구분하기 위해 태그는 일단 보기 쉽게 바꿔둠.\u001b[39;00m\n\u001b[0;32m     73\u001b[0m \u001b[38;5;66;03m# ElementTree의 iter()를 써서 더 좋게 할 수 있는 방법이 있지만\u001b[39;00m\n\u001b[0;32m     74\u001b[0m \u001b[38;5;66;03m# 이 짧은 코드에 굳이 그렇게 할 필요성이 없으므로 일단 문자열을 치환하는 방법으로 작성.\u001b[39;00m\n",
      "\u001b[1;31mKeyError\u001b[0m: 'result'"
     ]
    }
   ],
   "source": [
    "# 네이버 한글 맞춤법 검사기를 바탕으로 만들어진 패키지\n",
    "from hanspell import spell_checker\n",
    "\n",
    "result = spell_checker.check('맞춤법이 틀러도 괜참지 않나 안그래 쓰고싶으되로 쓰면 돼지')\n",
    "print(result.as_dict())"
   ]
  },
  {
   "cell_type": "code",
   "execution_count": null,
   "metadata": {},
   "outputs": [],
   "source": []
  }
 ],
 "metadata": {
  "kernelspec": {
   "display_name": "jkdev",
   "language": "python",
   "name": "python3"
  },
  "language_info": {
   "codemirror_mode": {
    "name": "ipython",
    "version": 3
   },
   "file_extension": ".py",
   "mimetype": "text/x-python",
   "name": "python",
   "nbconvert_exporter": "python",
   "pygments_lexer": "ipython3",
   "version": "3.9.18"
  }
 },
 "nbformat": 4,
 "nbformat_minor": 2
}
