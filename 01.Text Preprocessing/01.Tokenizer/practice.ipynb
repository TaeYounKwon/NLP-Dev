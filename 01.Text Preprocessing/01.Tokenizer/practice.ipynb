{
 "cells": [
  {
   "cell_type": "code",
   "execution_count": 19,
   "metadata": {},
   "outputs": [],
   "source": [
    "import nltk\n",
    "from nltk.tokenize import word_tokenize\n",
    "from nltk.tokenize import WordPunctTokenizer\n",
    "from tensorflow.keras.preprocessing.text import text_to_word_sequence"
   ]
  },
  {
   "cell_type": "markdown",
   "metadata": {},
   "source": [
    "### nltk vs tensorflow.keras\n",
    "nltk: seperating \"'\" into individual word\n",
    "- ex: 'Don', \"'\", 't' \n",
    "\n",
    "tensorflow.keras: make every word lower case, Not seperating \"'\"\n",
    "- ex: 'don't\""
   ]
  },
  {
   "cell_type": "code",
   "execution_count": 36,
   "metadata": {},
   "outputs": [
    {
     "name": "stdout",
     "output_type": "stream",
     "text": [
      "['Do', \"n't\", 'be', 'fooled', 'by', 'the', 'dark-sounding', 'name', ',', 'Mr.', 'Jone', \"'s\", 'Orphanage', 'is', 'as', 'cheery', 'as', 'cheery', 'goes', 'for', 'a', 'pastry', 'shop', '.']\n"
     ]
    }
   ],
   "source": [
    "# 특수문자 앞 뒤로 자름\n",
    "tmp = \"Don't be fooled by the dark-sounding name, Mr. Jone's Orphanage is as cheery as cheery goes for a pastry shop.\"\n",
    "result1 = word_tokenize(tmp, language=\"english\")\n",
    "print(result1)"
   ]
  },
  {
   "cell_type": "code",
   "execution_count": 37,
   "metadata": {},
   "outputs": [
    {
     "name": "stdout",
     "output_type": "stream",
     "text": [
      "['Don', \"'\", 't', 'be', 'fooled', 'by', 'the', 'dark', '-', 'sounding', 'name', ',', 'Mr', '.', 'Jone', \"'\", 's', 'Orphanage', 'is', 'as', 'cheery', 'as', 'cheery', 'goes', 'for', 'a', 'pastry', 'shop', '.']\n"
     ]
    }
   ],
   "source": [
    "# 특수문자를 하나의 객체로 인식\n",
    "result = WordPunctTokenizer().tokenize(tmp)\n",
    "print(result)"
   ]
  },
  {
   "cell_type": "code",
   "execution_count": 38,
   "metadata": {},
   "outputs": [
    {
     "name": "stdout",
     "output_type": "stream",
     "text": [
      "[\"don't\", 'be', 'fooled', 'by', 'the', 'dark', 'sounding', 'name', 'mr', \"jone's\", 'orphanage', 'is', 'as', 'cheery', 'as', 'cheery', 'goes', 'for', 'a', 'pastry', 'shop']\n"
     ]
    }
   ],
   "source": [
    "# 특수문자 -, *등을 제거, '<-의 경우 한번에 붙여서 나옴\n",
    "result = text_to_word_sequence(tmp)\n",
    "print(result)"
   ]
  },
  {
   "cell_type": "markdown",
   "metadata": {},
   "source": [
    "## 표준 토큰화 예제\n",
    "\n",
    "### Penn Treebank Tokenization\n",
    "- 규칙 1. 하이푼으로 구성된 단어는 하나로 유지한다.\n",
    "    - dark-sounding\n",
    "- 규칙 2. doesn't와 같이 아포스트로피로 '접어'가 함께하는 단어는 분리해준다.\n",
    "    - 'does' & \"n't\""
   ]
  },
  {
   "cell_type": "code",
   "execution_count": 32,
   "metadata": {},
   "outputs": [],
   "source": [
    "# 표준 토큰화 예제\n",
    "from nltk.tokenize import TreebankWordTokenizer"
   ]
  },
  {
   "cell_type": "code",
   "execution_count": 33,
   "metadata": {},
   "outputs": [
    {
     "name": "stdout",
     "output_type": "stream",
     "text": [
      "['Do', \"n't\", 'be', 'fooled', 'by', 'the', 'dark-sounding', 'name', ',', 'Mr.', 'Jone', \"'s\", 'Orphanage', 'is', 'as', 'cheery', 'as', 'cheery', 'goes', 'for', 'a', 'pastry', 'shop', '.']\n"
     ]
    }
   ],
   "source": [
    "tokenizer = TreebankWordTokenizer()\n",
    "print(tokenizer.tokenize(tmp))"
   ]
  },
  {
   "cell_type": "markdown",
   "metadata": {},
   "source": [
    "## 문장 토큰화 예제\n",
    "- 문장 토큰화: 어떻게 문장을 자를것인가...?\n",
    "    - nltk는 단순히 마침표(.)로 문장을 끝내지 않음."
   ]
  },
  {
   "cell_type": "code",
   "execution_count": 41,
   "metadata": {},
   "outputs": [
    {
     "name": "stdout",
     "output_type": "stream",
     "text": [
      "[\"I'm actively looking for Ph.D. Students who are looking foward to get into post-doctoral degree.\", 'and you statisfy all the requirements!']\n"
     ]
    }
   ],
   "source": [
    "from nltk.tokenize import sent_tokenize\n",
    "text = \"I'm actively looking for Ph.D. Students who are looking foward to get into post-doctoral degree. and you statisfy all the requirements!\"\n",
    "print(sent_tokenize(text))"
   ]
  },
  {
   "cell_type": "markdown",
   "metadata": {},
   "source": [
    "## 한국어 문장 토큰화 예제"
   ]
  },
  {
   "cell_type": "code",
   "execution_count": 43,
   "metadata": {},
   "outputs": [
    {
     "name": "stderr",
     "output_type": "stream",
     "text": [
      "[Kss]: Because there's no supported C++ morpheme analyzer, Kss will take pecab as a backend. :D\n",
      "For your information, Kss also supports mecab backend.\n",
      "We recommend you to install mecab or konlpy.tag.Mecab for faster execution of Kss.\n",
      "Please refer to following web sites for details:\n",
      "- mecab: https://cleancode-ws.tistory.com/97\n",
      "- konlpy.tag.Mecab: https://uwgdqo.tistory.com/363\n",
      "\n"
     ]
    },
    {
     "name": "stdout",
     "output_type": "stream",
     "text": [
      "['IP 192.168.56.31 서버에 들어가서 로그 파일 저장해서 aaa@gmail.com로 결과 좀 보내줘.', '그 후 점심 먹으러 가자.']\n"
     ]
    }
   ],
   "source": [
    "import kss\n",
    "text = 'IP 192.168.56.31 서버에 들어가서 로그 파일 저장해서 aaa@gmail.com로 결과 좀 보내줘. 그 후 점심 먹으러 가자.'\n",
    "print(kss.split_sentences(text))"
   ]
  },
  {
   "cell_type": "markdown",
   "metadata": {},
   "source": [
    "## 영어와 한국어 품사 태깅"
   ]
  },
  {
   "cell_type": "code",
   "execution_count": 1,
   "metadata": {},
   "outputs": [
    {
     "name": "stdout",
     "output_type": "stream",
     "text": [
      "단어 토큰화 : ['I', 'am', 'actively', 'looking', 'for', 'Ph.D.', 'students', '.', 'and', 'you', 'are', 'a', 'Ph.D.', 'student', '.']\n",
      "품사 태깅 : [('I', 'PRP'), ('am', 'VBP'), ('actively', 'RB'), ('looking', 'VBG'), ('for', 'IN'), ('Ph.D.', 'NNP'), ('students', 'NNS'), ('.', '.'), ('and', 'CC'), ('you', 'PRP'), ('are', 'VBP'), ('a', 'DT'), ('Ph.D.', 'NNP'), ('student', 'NN'), ('.', '.')]\n"
     ]
    }
   ],
   "source": [
    "from nltk.tokenize import word_tokenize\n",
    "from nltk.tag import pos_tag\n",
    "\n",
    "text = \"I am actively looking for Ph.D. students. and you are a Ph.D. student.\"\n",
    "tokenized_sentence = word_tokenize(text)\n",
    "\n",
    "print('단어 토큰화 :',tokenized_sentence)\n",
    "print('품사 태깅 :',pos_tag(tokenized_sentence))"
   ]
  },
  {
   "cell_type": "markdown",
   "metadata": {},
   "source": [
    "위의 예제에서 Penn Treebank POG Tags에서 \n",
    "- PRP는 인칭 대명사 \n",
    "- VBP는 동사 \n",
    "- RB는 부사\n",
    "- VBG는 현재부사\n",
    "- IN은 전치사\n",
    "- NNP는 고유 명사\n",
    "- NNS는 복수형 명사\n",
    "- CC는 접속사\n",
    "- DT는 관사를 의미"
   ]
  },
  {
   "cell_type": "code",
   "execution_count": 4,
   "metadata": {},
   "outputs": [
    {
     "name": "stdout",
     "output_type": "stream",
     "text": [
      "OKT 형태소: ['이제', '기다리고', '기다리던', '1월', '중순', '이', '되었습니다', '.', '나와', '함께', '놀러', '가요']\n",
      "OKT 품사태깅:  [('이제', 'Noun'), ('기다리고', 'Verb'), ('기다리던', 'Verb'), ('1월', 'Number'), ('중순', 'Noun'), ('이', 'Josa'), ('되었습니다', 'Verb'), ('.', 'Punctuation'), ('나와', 'Verb'), ('함께', 'Adverb'), ('놀러', 'Verb'), ('가요', 'Noun')]\n",
      "OKT 명사추출:  ['이제', '중순', '가요']\n",
      "\n",
      "NO SPACE HAHAHAHA :)\n",
      "OKT 형태소: ['이제', '기다리고', '기다리던', '1월', '중순이되었습니다', '.', '나와', '함께', '놀러', '가요']\n",
      "OKT 품사태깅:  [('이제', 'Noun'), ('기다리고', 'Verb'), ('기다리던', 'Verb'), ('1월', 'Number'), ('중순이되었습니다', 'Foreign'), ('.', 'Punctuation'), ('나와', 'Verb'), ('함께', 'Adverb'), ('놀러', 'Verb'), ('가요', 'Noun')]\n",
      "OKT 명사추출:  ['이제', '가요']\n"
     ]
    }
   ],
   "source": [
    "from konlpy.tag import Okt\n",
    "from konlpy.tag import Kkma\n",
    "\n",
    "okt = Okt()\n",
    "kkma = Kkma()\n",
    "\n",
    "text = \"이제 기다리고 기다리던 1월 중순이 되었습니다. 나와 함께 놀러가요\"\n",
    "print('OKT 형태소:', okt.morphs(text))\n",
    "print('OKT 품사태깅: ', okt.pos(text))\n",
    "print('OKT 명사추출: ', okt.nouns(text))\n",
    "\n",
    "# okay what if there is no space?!\n",
    "print('\\nNO SPACE HAHAHAHA :)')\n",
    "text = \"이제기다리고기다리던1월중순이되었습니다.나와함께놀러가요\"\n",
    "print('OKT 형태소:', okt.morphs(text))\n",
    "print('OKT 품사태깅: ', okt.pos(text))\n",
    "print('OKT 명사추출: ', okt.nouns(text))"
   ]
  },
  {
   "cell_type": "markdown",
   "metadata": {},
   "source": [
    "- 위의 한국어 결과물에서 역시나 뛰어쓰기가 제대로 되어있지 않은 경우, Foreign(외국어)로 간주하는걸 확인 할 수 있음."
   ]
  },
  {
   "cell_type": "code",
   "execution_count": 5,
   "metadata": {},
   "outputs": [
    {
     "name": "stdout",
     "output_type": "stream",
     "text": [
      "OKT 형태소: ['이제', '기다리', '고', '기다리', '던', '1', '월', '중순', '이', '되', '었', '습니다', '.', '나오', '아', '함께', '놀', '러', '가요']\n",
      "OKT 품사태깅:  [('이제', 'MAG'), ('기다리', 'VV'), ('고', 'ECE'), ('기다리', 'VV'), ('던', 'EFQ'), ('1', 'NR'), ('월', 'NNM'), ('중순', 'NNG'), ('이', 'JKC'), ('되', 'VV'), ('었', 'EPT'), ('습니다', 'EFN'), ('.', 'SF'), ('나오', 'VV'), ('아', 'ECS'), ('함께', 'MAG'), ('놀', 'VV'), ('러', 'ECD'), ('가요', 'NNG')]\n",
      "OKT 명사추출:  ['1', '1월', '월', '중순', '가요']\n",
      "\n",
      "NO SPACE HAHAHAHA :)\n",
      "OKT 형태소: ['이제', '기다리', '고', '기다리', '던', '1', '월', '중순', '이', '되', '었', '습니다', '.', '나오', '아', '함께', '놀', '러', '가요']\n",
      "OKT 품사태깅:  [('이제', 'MAG'), ('기다리', 'VV'), ('고', 'ECE'), ('기다리', 'VV'), ('던', 'EFQ'), ('1', 'NR'), ('월', 'NNM'), ('중순', 'NNG'), ('이', 'JKC'), ('되', 'VV'), ('었', 'EPT'), ('습니다', 'EFN'), ('.', 'SF'), ('나오', 'VV'), ('아', 'ECS'), ('함께', 'MAG'), ('놀', 'VV'), ('러', 'ECD'), ('가요', 'NNG')]\n",
      "OKT 명사추출:  ['1', '1월중순', '월', '중순', '가요']\n"
     ]
    }
   ],
   "source": [
    "text = \"이제 기다리고 기다리던 1월 중순이 되었습니다. 나와 함께 놀러가요\"\n",
    "print('OKT 형태소:', kkma.morphs(text))\n",
    "print('OKT 품사태깅: ', kkma.pos(text))\n",
    "print('OKT 명사추출: ', kkma.nouns(text))\n",
    "\n",
    "# okay what if there is no space?!\n",
    "print('\\nNO SPACE HAHAHAHA :)')\n",
    "text = \"이제기다리고기다리던1월중순이되었습니다.나와함께놀러가요\"\n",
    "print('OKT 형태소:', kkma.morphs(text))\n",
    "print('OKT 품사태깅: ', kkma.pos(text))\n",
    "print('OKT 명사추출: ', kkma.nouns(text))"
   ]
  },
  {
   "cell_type": "markdown",
   "metadata": {},
   "source": [
    "- 위의 한국어 결과물에서 또한 뛰어쓰기가 제대로 되어있지 않은 경우, 결과물이 달라지는 것을 확인 할 수 있음. \n",
    "- 다만 문장에서 띄어쓰기가 안되어있을때, Okt보다 결과물이 더 좋은 것을 확인."
   ]
  }
 ],
 "metadata": {
  "kernelspec": {
   "display_name": "jkdev",
   "language": "python",
   "name": "python3"
  },
  "language_info": {
   "codemirror_mode": {
    "name": "ipython",
    "version": 3
   },
   "file_extension": ".py",
   "mimetype": "text/x-python",
   "name": "python",
   "nbconvert_exporter": "python",
   "pygments_lexer": "ipython3",
   "version": "3.9.18"
  }
 },
 "nbformat": 4,
 "nbformat_minor": 2
}
