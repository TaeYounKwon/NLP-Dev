{
 "cells": [
  {
   "cell_type": "markdown",
   "metadata": {},
   "source": [
    "### Bag of Words 한국어"
   ]
  },
  {
   "cell_type": "code",
   "execution_count": 1,
   "metadata": {},
   "outputs": [],
   "source": [
    "from konlpy.tag import Okt"
   ]
  },
  {
   "cell_type": "code",
   "execution_count": 2,
   "metadata": {},
   "outputs": [],
   "source": [
    "okt = Okt()"
   ]
  },
  {
   "cell_type": "code",
   "execution_count": 3,
   "metadata": {},
   "outputs": [],
   "source": [
    "def build_BoW(document):\n",
    "    # 온점 제거 및 형태소 분석\n",
    "    document = document.replace('.','')\n",
    "    tokenized_document = okt.morphs(document)\n",
    "    \n",
    "    word_to_index = {}\n",
    "    bow = []\n",
    "    \n",
    "    for word in tokenized_document:\n",
    "        if word not in word_to_index.keys():\n",
    "            word_to_index[word] = len(word_to_index)\n",
    "            bow.insert(len(word_to_index)-1,1)\n",
    "        else:\n",
    "            index = word_to_index.get(word)\n",
    "            bow[index] +=1\n",
    "    \n",
    "    return word_to_index, bow"
   ]
  },
  {
   "cell_type": "code",
   "execution_count": 5,
   "metadata": {},
   "outputs": [
    {
     "name": "stdout",
     "output_type": "stream",
     "text": [
      "vocabulary : {'잭': 0, '은': 1, '콩나물': 2, '을': 3, '싫어하며': 4, '고양이': 5, '와': 6, '노': 7, '는': 8, '것': 9, '매우': 10, '좋아한다': 11}\n",
      "bag of words vector : [1, 1, 1, 2, 1, 1, 1, 1, 1, 1, 1, 1]\n"
     ]
    }
   ],
   "source": [
    "doc1 = \"잭은 콩나물을 싫어하며 고양이와 노는 것을 매우 좋아한다.\"\n",
    "vocab, bow = build_BoW(doc1)\n",
    "print('vocabulary :', vocab)\n",
    "print('bag of words vector :', bow)"
   ]
  },
  {
   "cell_type": "code",
   "execution_count": 7,
   "metadata": {},
   "outputs": [
    {
     "name": "stdout",
     "output_type": "stream",
     "text": [
      "vocabulary : {'냉장고': 0, '에': 1, '콩나물': 2, '이': 3, '많이': 4, '남아': 5, '있기': 6, '때문': 7, '저녁': 8, '찌개': 9, '를': 10, '끓여야겠다': 11}\n",
      "bag of words vector : [1, 3, 2, 1, 1, 1, 1, 1, 1, 1, 1, 1]\n"
     ]
    }
   ],
   "source": [
    "doc2 = \"냉장고에 콩나물이 많이 남아 있기 때문에 저녁에 콩나물 찌개를 끓여야겠다.\"\n",
    "vocab, bow = build_BoW(doc2)\n",
    "print('vocabulary :', vocab)\n",
    "print('bag of words vector :', bow)"
   ]
  },
  {
   "cell_type": "code",
   "execution_count": 8,
   "metadata": {},
   "outputs": [
    {
     "name": "stdout",
     "output_type": "stream",
     "text": [
      "vocabulary : {'잭': 0, '은': 1, '콩나물': 2, '을': 3, '싫어하며': 4, '고양이': 5, '와': 6, '노': 7, '는': 8, '것': 9, '매우': 10, '좋아한다': 11, '냉장고': 12, '에': 13, '이': 14, '많이': 15, '남아': 16, '있기': 17, '때문': 18, '저녁': 19, '찌개': 20, '를': 21, '끓여야겠다': 22}\n",
      "bag of words vector : [1, 1, 3, 2, 1, 1, 1, 1, 1, 1, 1, 1, 1, 3, 1, 1, 1, 1, 1, 1, 1, 1, 1]\n"
     ]
    }
   ],
   "source": [
    "doc3 = doc1 + ' ' + doc2 \n",
    "vocab, bow = build_BoW(doc3)\n",
    "print('vocabulary :', vocab)\n",
    "print('bag of words vector :', bow)"
   ]
  },
  {
   "cell_type": "markdown",
   "metadata": {},
   "source": [
    "### Bag of Words English"
   ]
  },
  {
   "cell_type": "code",
   "execution_count": 9,
   "metadata": {},
   "outputs": [],
   "source": [
    "from sklearn.feature_extraction.text import CountVectorizer\n"
   ]
  },
  {
   "cell_type": "code",
   "execution_count": 13,
   "metadata": {},
   "outputs": [],
   "source": [
    "corpus = ['Oh I want a tale of romance too of seeking adventure and finding truth']\n",
    "vector = CountVectorizer()"
   ]
  },
  {
   "cell_type": "code",
   "execution_count": 14,
   "metadata": {},
   "outputs": [
    {
     "name": "stdout",
     "output_type": "stream",
     "text": [
      "BoW:  [[1 1 1 2 1 1 1 1 1 1 1]]\n",
      "Vocab:  {'oh': 4, 'want': 10, 'tale': 7, 'of': 3, 'romance': 5, 'too': 8, 'seeking': 6, 'adventure': 0, 'and': 1, 'finding': 2, 'truth': 9}\n"
     ]
    }
   ],
   "source": [
    "print('BoW: ', vector.fit_transform(corpus).toarray())\n",
    "print('Vocab: ', vector.vocabulary_)"
   ]
  },
  {
   "cell_type": "code",
   "execution_count": 15,
   "metadata": {},
   "outputs": [],
   "source": [
    "# 불용어를 제거한 후 BoW만들기\n",
    "from nltk.corpus import stopwords"
   ]
  },
  {
   "cell_type": "code",
   "execution_count": 19,
   "metadata": {},
   "outputs": [
    {
     "name": "stdout",
     "output_type": "stream",
     "text": [
      "bag of words vector : [[1 1 1 1 1 1]]\n",
      "vocabulary : {'family': 2, 'important': 3, 'thing': 5, 'it': 4, 'absolutely': 0, 'everything': 1}\n"
     ]
    }
   ],
   "source": [
    "# 사용자가 불용어 지정\n",
    "text = [\"Family is not an important thing. It's absolutely everything.\"]\n",
    "vect = CountVectorizer(stop_words=[\"the\", \"a\", \"an\", \"is\", \"not\"])\n",
    "print('bag of words vector :',vect.fit_transform(text).toarray())\n",
    "print('vocabulary :',vect.vocabulary_)"
   ]
  },
  {
   "cell_type": "code",
   "execution_count": 20,
   "metadata": {},
   "outputs": [
    {
     "name": "stdout",
     "output_type": "stream",
     "text": [
      "bag of words vector : [[1 1 1 1]]\n",
      "vocabulary : {'family': 1, 'important': 2, 'thing': 3, 'absolutely': 0}\n"
     ]
    }
   ],
   "source": [
    "# CountVectorizer에서 제공하는 불용어 사용\n",
    "text = [\"Family is not an important thing. It's absolutely everything.\"]\n",
    "vect = CountVectorizer(stop_words=\"english\")\n",
    "print('bag of words vector :',vect.fit_transform(text).toarray())\n",
    "print('vocabulary :',vect.vocabulary_)"
   ]
  },
  {
   "cell_type": "code",
   "execution_count": 21,
   "metadata": {},
   "outputs": [
    {
     "name": "stdout",
     "output_type": "stream",
     "text": [
      "bag of words vector : [[1 1 1 1 1]]\n",
      "vocabulary : {'family': 2, 'important': 3, 'thing': 4, 'absolutely': 0, 'everything': 1}\n"
     ]
    }
   ],
   "source": [
    "# NLTK의 불용어 사용\n",
    "text = [\"Family is not an important thing. It's absolutely everything.\"]\n",
    "stop_words = stopwords.words(\"english\")\n",
    "vect = CountVectorizer(stop_words=stop_words)\n",
    "print('bag of words vector :',vect.fit_transform(text).toarray()) \n",
    "print('vocabulary :',vect.vocabulary_)"
   ]
  }
 ],
 "metadata": {
  "kernelspec": {
   "display_name": "jkdev",
   "language": "python",
   "name": "python3"
  },
  "language_info": {
   "codemirror_mode": {
    "name": "ipython",
    "version": 3
   },
   "file_extension": ".py",
   "mimetype": "text/x-python",
   "name": "python",
   "nbconvert_exporter": "python",
   "pygments_lexer": "ipython3",
   "version": "3.9.18"
  }
 },
 "nbformat": 4,
 "nbformat_minor": 2
}
