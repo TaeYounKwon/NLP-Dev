{
 "cells": [
  {
   "cell_type": "markdown",
   "metadata": {},
   "source": [
    "### 불용어 제거(영어)"
   ]
  },
  {
   "cell_type": "code",
   "execution_count": 1,
   "metadata": {},
   "outputs": [],
   "source": [
    "from nltk.corpus import stopwords\n",
    "from nltk.tokenize import word_tokenize\n",
    "from konlpy.tag import Okt "
   ]
  },
  {
   "cell_type": "code",
   "execution_count": 2,
   "metadata": {},
   "outputs": [
    {
     "name": "stdout",
     "output_type": "stream",
     "text": [
      "179\n",
      "['i', 'me', 'my', 'myself', 'we', 'our', 'ours', 'ourselves', 'you', \"you're\"]\n"
     ]
    }
   ],
   "source": [
    "sw_list = stopwords.words('english')\n",
    "print(len(sw_list))\n",
    "print(sw_list[:10])"
   ]
  },
  {
   "cell_type": "code",
   "execution_count": 3,
   "metadata": {},
   "outputs": [
    {
     "name": "stdout",
     "output_type": "stream",
     "text": [
      "['I', 'bought', 'a', 'treat', 'for', 'my', 'cat', 'yesterday', '.', 'Now', 'he', 'becomes', 'extremely', 'happy', '.', 'I', 'am', 'not', 'sure', 'when', 'he', 'will', 'lose', 'some', 'weight', '.']\n",
      "['I', 'bought', 'treat', 'cat', 'yesterday', '.', 'Now', 'becomes', 'extremely', 'happy', '.', 'I', 'sure', 'lose', 'weight', '.']\n"
     ]
    }
   ],
   "source": [
    "text = 'I bought a treat for my cat yesterday. Now he becomes extremely happy. I am not sure when he will lose some weight.'\n",
    "sw = set(sw_list)\n",
    "w_token = word_tokenize(text)\n",
    "result = [word for word in w_token if word not in sw]\n",
    "\n",
    "print(w_token)\n",
    "print(result)"
   ]
  },
  {
   "cell_type": "markdown",
   "metadata": {},
   "source": [
    "### 불용어 제거(한국어)"
   ]
  },
  {
   "cell_type": "code",
   "execution_count": 5,
   "metadata": {},
   "outputs": [
    {
     "name": "stdout",
     "output_type": "stream",
     "text": [
      "['삼겹살', '을', '구울', '때', '가장', '중요한건', '불판', '에', '온도', '야', '.', '절때', '낮은', '온도', '의', '불판', '에', '고기', '를', '올려', '서는', '안', '돼', '.', '그럼', '고기', '가', '익는', '속도', '도', '느려지고', ',', '결과', '적', '으로', '육즙', '이', '많이', '증발', '하게', '된다고', '.']\n",
      "['삼겹살', '을', '구울', '때', '가장', '중요한건', '불판', '에', '온도', '야', '.', '온도', '의', '불판', '에', '고기', '를', '올려', '서는', '안', '돼', '.', '그럼', '고기', '가', '익는', '속도', '도', '느려지고', ',', '결과', '적', '으로', '육즙', '이', '많이', '증발', '하게', '된다고', '.']\n"
     ]
    }
   ],
   "source": [
    "okt = Okt()\n",
    "text = '삼겹살을 구울 때 가장 중요한건 불판에 온도야. 절때 낮은 온도의 불판에 고기를 올려서는 안돼. 그럼 고기가 익는 속도도 느려지고, 결과적으로 육즙이 많이 증발하게된다고.'\n",
    "custom_sw = \"절때 낮은 온도의 불판에 고기를 올려서는 안돼\"\n",
    "sw_word = set(custom_sw.split(' '))\n",
    "word_tokens = okt.morphs(text)\n",
    "result = [word for word in word_tokens if not word  in sw_word]\n",
    "print(word_tokens)\n",
    "print(result)"
   ]
  },
  {
   "cell_type": "code",
   "execution_count": null,
   "metadata": {},
   "outputs": [],
   "source": []
  }
 ],
 "metadata": {
  "kernelspec": {
   "display_name": "jkdev",
   "language": "python",
   "name": "python3"
  },
  "language_info": {
   "codemirror_mode": {
    "name": "ipython",
    "version": 3
   },
   "file_extension": ".py",
   "mimetype": "text/x-python",
   "name": "python",
   "nbconvert_exporter": "python",
   "pygments_lexer": "ipython3",
   "version": "3.9.18"
  }
 },
 "nbformat": 4,
 "nbformat_minor": 2
}
