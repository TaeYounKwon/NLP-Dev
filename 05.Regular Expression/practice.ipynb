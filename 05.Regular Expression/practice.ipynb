{
 "cells": [
  {
   "cell_type": "code",
   "execution_count": 1,
   "metadata": {},
   "outputs": [],
   "source": [
    "import re"
   ]
  },
  {
   "cell_type": "markdown",
   "metadata": {},
   "source": [
    "### . 기호\n",
    "\n",
    "- .은 한개의 임의의 문자를 나타냄(특수문자 포함)"
   ]
  },
  {
   "cell_type": "code",
   "execution_count": 2,
   "metadata": {},
   "outputs": [
    {
     "name": "stdout",
     "output_type": "stream",
     "text": [
      "None\n",
      "None\n",
      "None\n",
      "<re.Match object; span=(0, 5), match='diice'>\n",
      "None\n",
      "None\n"
     ]
    }
   ],
   "source": [
    "r = re.compile('di.ce') \n",
    "print(r.search('aaaa'))\n",
    "print(r.search('dice'))\n",
    "print(r.search('dce'))\n",
    "print(r.search('diice')) #<- 임의의 1개의 문자만 추가됨\n",
    "print(r.search('diave'))\n",
    "print(r.search('diiiice'))"
   ]
  },
  {
   "cell_type": "markdown",
   "metadata": {},
   "source": [
    "### ? 기호\n",
    "\n",
    "- ?은 ? 바로 앞에 문자가 존재할 수도 있고 없을 수도 있음"
   ]
  },
  {
   "cell_type": "code",
   "execution_count": 3,
   "metadata": {},
   "outputs": [
    {
     "name": "stdout",
     "output_type": "stream",
     "text": [
      "None\n",
      "<re.Match object; span=(0, 4), match='dice'>\n",
      "<re.Match object; span=(0, 3), match='dce'>\n",
      "None\n",
      "None\n",
      "None\n"
     ]
    }
   ],
   "source": [
    "r = re.compile('di?ce') \n",
    "print(r.search('aaaa'))\n",
    "print(r.search('dice')) # <- 있거나\n",
    "print(r.search('dce'))  # <- 없거나\n",
    "print(r.search('diice'))\n",
    "print(r.search('diave'))\n",
    "print(r.search('diiiice'))"
   ]
  },
  {
   "cell_type": "markdown",
   "metadata": {},
   "source": [
    "### * 기호\n",
    "\n",
    "- *은 * 바로 앞에 문자가 여러개 존재할 수도 있고 없을 수도 있음"
   ]
  },
  {
   "cell_type": "code",
   "execution_count": 4,
   "metadata": {},
   "outputs": [
    {
     "name": "stdout",
     "output_type": "stream",
     "text": [
      "None\n",
      "<re.Match object; span=(0, 4), match='dice'>\n",
      "<re.Match object; span=(0, 3), match='dce'>\n",
      "<re.Match object; span=(0, 5), match='diice'>\n",
      "None\n",
      "<re.Match object; span=(0, 7), match='diiiice'>\n"
     ]
    }
   ],
   "source": [
    "r = re.compile('di*ce')\n",
    "print(r.search('aaaa'))\n",
    "print(r.search('dice'))\n",
    "print(r.search('dce'))\n",
    "print(r.search('diice')) # <- 여러개거나\n",
    "print(r.search('diave'))\n",
    "print(r.search('diiiice'))"
   ]
  },
  {
   "cell_type": "markdown",
   "metadata": {},
   "source": [
    "### + 기호\n",
    "\n",
    "- +은 + 바로 앞에 문자가 최소 1개 이상 존재"
   ]
  },
  {
   "cell_type": "code",
   "execution_count": 5,
   "metadata": {},
   "outputs": [
    {
     "name": "stdout",
     "output_type": "stream",
     "text": [
      "None\n",
      "<re.Match object; span=(0, 4), match='dice'>\n",
      "None\n",
      "<re.Match object; span=(0, 5), match='diice'>\n",
      "None\n",
      "<re.Match object; span=(0, 7), match='diiiice'>\n"
     ]
    }
   ],
   "source": [
    "r = re.compile('di+ce') \n",
    "print(r.search('aaaa'))\n",
    "print(r.search('dice'))    # <- 최소 1개 이상\n",
    "print(r.search('dce')) \n",
    "print(r.search('diice'))   # <- 최소 1개 이상\n",
    "print(r.search('diave'))   \n",
    "print(r.search('diiiice')) # <- 최소 1개 이상"
   ]
  },
  {
   "cell_type": "markdown",
   "metadata": {},
   "source": [
    "### ^ 기호\n",
    "\n",
    "- ^은 ^로 시작되는 문자열을 지정"
   ]
  },
  {
   "cell_type": "code",
   "execution_count": 6,
   "metadata": {},
   "outputs": [
    {
     "name": "stdout",
     "output_type": "stream",
     "text": [
      "None\n",
      "<re.Match object; span=(0, 2), match='di'>\n",
      "None\n",
      "<re.Match object; span=(0, 2), match='di'>\n",
      "<re.Match object; span=(0, 2), match='di'>\n",
      "<re.Match object; span=(0, 2), match='di'>\n"
     ]
    }
   ],
   "source": [
    "r = re.compile('^di') \n",
    "print(r.search('aaaa'))\n",
    "print(r.search('dice'))    # <- di로 시작\n",
    "print(r.search('dce')) \n",
    "print(r.search('diice'))   # <- di로 시작\n",
    "print(r.search('diave'))   # <- di로 시작\n",
    "print(r.search('diiiice')) # <- di로 시작"
   ]
  },
  {
   "cell_type": "markdown",
   "metadata": {},
   "source": [
    "### {숫자} 기호\n",
    "\n",
    "- {숫자}는 괄호 바로 앞의 문자가 숫자만큼 존재하는 것 "
   ]
  },
  {
   "cell_type": "code",
   "execution_count": 30,
   "metadata": {},
   "outputs": [
    {
     "name": "stdout",
     "output_type": "stream",
     "text": [
      "None\n",
      "None\n",
      "None\n",
      "<re.Match object; span=(0, 5), match='diice'>\n",
      "None\n",
      "None\n",
      "None\n"
     ]
    }
   ],
   "source": [
    "r = re.compile('di{2}ce') \n",
    "print(r.search('aaaa'))\n",
    "print(r.search('dice'))  \n",
    "print(r.search('dce')) \n",
    "print(r.search('diice')) # <- i가 딱 2개만 존재\n",
    "print(r.search('diave')) \n",
    "print(r.search('diiiice'))\n",
    "print(r.search('didice'))"
   ]
  },
  {
   "cell_type": "markdown",
   "metadata": {},
   "source": [
    "### {숫자1, 숫자2} 기호\n",
    "\n",
    "- {숫자1, 숫자2}는 괄호 바로 앞의 문자가 숫자1 이상 숫자 2 이하 만큼 존재하는 것 "
   ]
  },
  {
   "cell_type": "code",
   "execution_count": 31,
   "metadata": {},
   "outputs": [
    {
     "name": "stdout",
     "output_type": "stream",
     "text": [
      "None\n",
      "None\n",
      "None\n",
      "<re.Match object; span=(0, 5), match='diice'>\n",
      "None\n",
      "<re.Match object; span=(0, 7), match='diiiice'>\n",
      "None\n"
     ]
    }
   ],
   "source": [
    "r = re.compile('di{2,6}ce') \n",
    "print(r.search('aaaa'))\n",
    "print(r.search('dice'))  \n",
    "print(r.search('dce')) \n",
    "print(r.search('diice'))   # <- i가 2개 이상 존재\n",
    "print(r.search('diave')) \n",
    "print(r.search('diiiice')) # <- i가 6개 이하 존재\n",
    "print(r.search('didice'))"
   ]
  },
  {
   "cell_type": "markdown",
   "metadata": {},
   "source": [
    "### {숫자, } 기호\n",
    "\n",
    "- {숫자}는 괄호 바로 앞의 문자가 숫자만큼 반복되는 것\n",
    "\n",
    "- {0,}는 *과 같은 의미\n",
    "\n",
    "- {1,}는 +와 같은 의미"
   ]
  },
  {
   "cell_type": "code",
   "execution_count": 32,
   "metadata": {},
   "outputs": [
    {
     "name": "stdout",
     "output_type": "stream",
     "text": [
      "None\n",
      "None\n",
      "None\n",
      "<re.Match object; span=(0, 5), match='diice'>\n",
      "None\n",
      "<re.Match object; span=(0, 7), match='diiiice'>\n",
      "None\n"
     ]
    }
   ],
   "source": [
    "r = re.compile('di{2,}ce') \n",
    "print(r.search('aaaa'))\n",
    "print(r.search('dice'))  \n",
    "print(r.search('dce')) \n",
    "print(r.search('diice'))   # <- i가 2개씩 1번 존재\n",
    "print(r.search('diave')) \n",
    "print(r.search('diiiice')) # <- i가 2개씩 2번 존재\n",
    "print(r.search('didice'))"
   ]
  },
  {
   "cell_type": "code",
   "execution_count": 10,
   "metadata": {},
   "outputs": [
    {
     "name": "stdout",
     "output_type": "stream",
     "text": [
      "None\n",
      "<re.Match object; span=(0, 4), match='dice'>\n",
      "<re.Match object; span=(0, 3), match='dce'>\n",
      "<re.Match object; span=(0, 5), match='diice'>\n",
      "None\n",
      "<re.Match object; span=(0, 7), match='diiiice'>\n"
     ]
    }
   ],
   "source": [
    "r = re.compile('di{0,}ce') \n",
    "print(r.search('aaaa'))\n",
    "print(r.search('dice'))  \n",
    "print(r.search('dce')) \n",
    "print(r.search('diice'))   \n",
    "print(r.search('diave')) \n",
    "print(r.search('diiiice')) "
   ]
  },
  {
   "cell_type": "code",
   "execution_count": 11,
   "metadata": {},
   "outputs": [
    {
     "name": "stdout",
     "output_type": "stream",
     "text": [
      "None\n",
      "<re.Match object; span=(0, 4), match='dice'>\n",
      "None\n",
      "<re.Match object; span=(0, 5), match='diice'>\n",
      "None\n",
      "<re.Match object; span=(0, 7), match='diiiice'>\n"
     ]
    }
   ],
   "source": [
    "r = re.compile('di{1,}ce') \n",
    "print(r.search('aaaa'))\n",
    "print(r.search('dice'))  \n",
    "print(r.search('dce')) \n",
    "print(r.search('diice'))   \n",
    "print(r.search('diave')) \n",
    "print(r.search('diiiice')) "
   ]
  },
  {
   "cell_type": "markdown",
   "metadata": {},
   "source": [
    "### [ ] 기호\n",
    "\n",
    "- [ ]는 괄호안의 문자들 중 한개의 문자와 매치하라는 뜻."
   ]
  },
  {
   "cell_type": "code",
   "execution_count": 12,
   "metadata": {},
   "outputs": [
    {
     "name": "stdout",
     "output_type": "stream",
     "text": [
      "None\n",
      "<re.Match object; span=(2, 3), match='c'>\n",
      "<re.Match object; span=(1, 2), match='c'>\n",
      "<re.Match object; span=(3, 4), match='c'>\n",
      "None\n",
      "<re.Match object; span=(5, 6), match='c'>\n"
     ]
    }
   ],
   "source": [
    "r = re.compile('[c]') \n",
    "print(r.search('aaaa'))\n",
    "print(r.search('dice'))  \n",
    "print(r.search('dce')) \n",
    "print(r.search('diice'))   \n",
    "print(r.search('diave')) \n",
    "print(r.search('diiiice')) "
   ]
  },
  {
   "cell_type": "code",
   "execution_count": 13,
   "metadata": {},
   "outputs": [
    {
     "name": "stdout",
     "output_type": "stream",
     "text": [
      "None\n",
      "<re.Match object; span=(2, 3), match='c'>\n",
      "<re.Match object; span=(1, 2), match='c'>\n",
      "<re.Match object; span=(3, 4), match='c'>\n",
      "<re.Match object; span=(4, 5), match='e'>\n",
      "<re.Match object; span=(5, 6), match='c'>\n"
     ]
    }
   ],
   "source": [
    "r = re.compile('[ec]') \n",
    "print(r.search('aaaa'))\n",
    "print(r.search('dice'))  \n",
    "print(r.search('dce')) \n",
    "print(r.search('diice'))   \n",
    "print(r.search('diave')) \n",
    "print(r.search('diiiice')) "
   ]
  },
  {
   "cell_type": "code",
   "execution_count": 14,
   "metadata": {},
   "outputs": [
    {
     "name": "stdout",
     "output_type": "stream",
     "text": [
      "None\n",
      "None\n",
      "None\n",
      "None\n",
      "None\n",
      "None\n"
     ]
    }
   ],
   "source": [
    "r = re.compile('[A-Z]') # 대문자만\n",
    "print(r.search('aaaa'))\n",
    "print(r.search('dice'))  \n",
    "print(r.search('dce')) \n",
    "print(r.search('diice'))   \n",
    "print(r.search('diave')) \n",
    "print(r.search('diiiice')) "
   ]
  },
  {
   "cell_type": "markdown",
   "metadata": {},
   "source": [
    "### [^문자 ] 기호\n",
    "\n",
    "- [^문자 ]는 괄호안의 문자들을 제외한 모든 문자를 매치하라는 뜻."
   ]
  },
  {
   "cell_type": "code",
   "execution_count": 15,
   "metadata": {},
   "outputs": [
    {
     "name": "stdout",
     "output_type": "stream",
     "text": [
      "<re.Match object; span=(0, 1), match='a'>\n",
      "None\n",
      "None\n",
      "None\n",
      "<re.Match object; span=(2, 3), match='a'>\n",
      "None\n"
     ]
    }
   ],
   "source": [
    "r = re.compile(\"[^dice]\") # \"d\", \"i\", \"c\", \"e\"를 제외한 나머지\n",
    "print(r.search('aaaa'))\n",
    "print(r.search('dice'))  \n",
    "print(r.search('dce')) \n",
    "print(r.search('diice'))   \n",
    "print(r.search('diave')) \n",
    "print(r.search('diiiice')) "
   ]
  },
  {
   "cell_type": "markdown",
   "metadata": {},
   "source": [
    "### re 모듈 내 함수 예제"
   ]
  },
  {
   "cell_type": "markdown",
   "metadata": {},
   "source": [
    "### re.match(문자) vs. re.search(문자)\n",
    "\n",
    "- search()는 문자열 중 그 문자가 문자열 내에 포함되어 있는지\n",
    "- match()는 문자열 중 그 문자로 문자열이 시작되는지\n"
   ]
  },
  {
   "cell_type": "code",
   "execution_count": 16,
   "metadata": {},
   "outputs": [
    {
     "name": "stdout",
     "output_type": "stream",
     "text": [
      "<re.Match object; span=(1, 4), match='aeh'>\n",
      "None\n",
      "<re.Match object; span=(0, 3), match='aeo'>\n",
      "<re.Match object; span=(0, 3), match='aeo'>\n",
      "None\n",
      "None\n",
      "<re.Match object; span=(0, 3), match='aeo'>\n",
      "<re.Match object; span=(0, 3), match='aeo'>\n"
     ]
    }
   ],
   "source": [
    "r = re.compile(\"ae.\") # \"d\", \"i\", \"c\", \"e\"를 제외한 나머지\n",
    "print(r.search('haehae'))\n",
    "print(r.search('hea'))\n",
    "print(r.search('aeo'))\n",
    "print(r.search('aeoaeh'))\n",
    "print(r.match('haehae'))\n",
    "print(r.match('hea'))\n",
    "print(r.match('aeo'))\n",
    "print(r.match('aeoaeh'))"
   ]
  },
  {
   "cell_type": "markdown",
   "metadata": {},
   "source": [
    "### re.split()\n",
    "\n",
    "- split() 사용 중 괄호를 비어 놓으면 띄어쓰기(white space)를 기준으로 문자열이 잘림\n",
    "\n",
    "- split(',') 처럼 split 내에 문자열을 놓으면 그 문자열을 기준으로 잘림\n"
   ]
  },
  {
   "cell_type": "code",
   "execution_count": 18,
   "metadata": {},
   "outputs": [
    {
     "name": "stdout",
     "output_type": "stream",
     "text": [
      "['I', 'love', 'to', 'eat', 'pork', 'belly', 'with', 'my', 'friends,', 'John', 'and', 'Jun']\n",
      "['I love to eat pork belly with my friends', ' John and Jun']\n"
     ]
    }
   ],
   "source": [
    "text = 'I love to eat pork belly with my friends, John and Jun'\n",
    "print(re.split(\" \",text))\n",
    "print(re.split(\",\",text))"
   ]
  },
  {
   "cell_type": "markdown",
   "metadata": {},
   "source": [
    "### re.findall()\n",
    "\n",
    "- findall() 사용할 때, 괄호 안에 정규식 표현을 넣으면, 해당되는 문자열이 모두 출력됨\n",
    "\n",
    "- 단, 정규식 표현에 맞는 문자열이 없을 경우 빈 리스트를 출력\n"
   ]
  },
  {
   "cell_type": "code",
   "execution_count": 25,
   "metadata": {},
   "outputs": [
    {
     "name": "stdout",
     "output_type": "stream",
     "text": [
      "['1996', '11', '010', '1234', '5678']\n",
      "['Jack']\n",
      "[]\n"
     ]
    }
   ],
   "source": [
    "text = '''\n",
    "Name: Jack \n",
    "Year: 1996\n",
    "Month: Feburary\n",
    "Day: 11th\n",
    "Gender: Male\n",
    "Phone: 010-1234-5678\n",
    "City: Seoul\n",
    "'''\n",
    "print(re.findall('\\d+',text))\n",
    "print(re.findall('.ack',text))\n",
    "print(re.findall('a.b',text))"
   ]
  },
  {
   "cell_type": "markdown",
   "metadata": {},
   "source": [
    "### re.sub()\n",
    "\n",
    "- sub() 는 정규 표현식 패턴과 일치하는 문자열을 찾아 다른 문자열로 대체할 때 사용\n"
   ]
  },
  {
   "cell_type": "code",
   "execution_count": 38,
   "metadata": {},
   "outputs": [
    {
     "name": "stdout",
     "output_type": "stream",
     "text": [
      "  :   ,   [1] (    )[2][3] ,        ,         .\n",
      "Regular expression   A regular expression  regex or regexp     sometimes called a rational expression        is  in theoretical computer science and formal language theory  a sequence of characters that define a search pattern \n"
     ]
    }
   ],
   "source": [
    "text = \"Regular expression : A regular expression, regex or regexp[1] (sometimes called a rational expression)[2][3] is, in theoretical computer science and formal language theory, a sequence of characters that define a search pattern.\"\n",
    "\n",
    "print(re.sub('[a-zA-Z]', '', text)) # 모든 문자열을 공백으로 바꿔라\n",
    "print(re.sub('[^a-zA-Z]', ' ', text)) # 문자가 아닌 모든것을 공백으로 바꿔라"
   ]
  },
  {
   "cell_type": "markdown",
   "metadata": {},
   "source": [
    "### 정규식을 이용한 토큰화\n",
    "\n",
    "- RegexpTokenizer()을 사용할텐데, 괄호 안에 정규 표현식을 넣어 해당되는 토큰화 결과를 출력시킴\n",
    "\n",
    "- gaps=True는 해당 정규 표현식을 토큰으로 나누기 위한 기준으로 세팅\n"
   ]
  },
  {
   "cell_type": "code",
   "execution_count": 33,
   "metadata": {},
   "outputs": [],
   "source": [
    "from nltk.tokenize import RegexpTokenizer\n",
    "\n",
    "text = \"Don't be fooled by the dark sounding name, Mr. Jone's Orphanage is as cheery as cheery goes for a pastry shop\"\n",
    "\n",
    "tokenizer1 = RegexpTokenizer(\"[\\w]+\") # 문자 또는 숫자가 1개 이상\n",
    "tokenizer2 = RegexpTokenizer(\"\\s+\", gaps=True) "
   ]
  },
  {
   "cell_type": "code",
   "execution_count": 34,
   "metadata": {},
   "outputs": [
    {
     "name": "stdout",
     "output_type": "stream",
     "text": [
      "['Don', 't', 'be', 'fooled', 'by', 'the', 'dark', 'sounding', 'name', 'Mr', 'Jone', 's', 'Orphanage', 'is', 'as', 'cheery', 'as', 'cheery', 'goes', 'for', 'a', 'pastry', 'shop']\n",
      "[\"Don't\", 'be', 'fooled', 'by', 'the', 'dark', 'sounding', 'name,', 'Mr.', \"Jone's\", 'Orphanage', 'is', 'as', 'cheery', 'as', 'cheery', 'goes', 'for', 'a', 'pastry', 'shop']\n"
     ]
    }
   ],
   "source": [
    "print(tokenizer1.tokenize(text))\n",
    "print(tokenizer2.tokenize(text))"
   ]
  }
 ],
 "metadata": {
  "kernelspec": {
   "display_name": "jkdev",
   "language": "python",
   "name": "python3"
  },
  "language_info": {
   "codemirror_mode": {
    "name": "ipython",
    "version": 3
   },
   "file_extension": ".py",
   "mimetype": "text/x-python",
   "name": "python",
   "nbconvert_exporter": "python",
   "pygments_lexer": "ipython3",
   "version": "3.9.18"
  }
 },
 "nbformat": 4,
 "nbformat_minor": 2
}
