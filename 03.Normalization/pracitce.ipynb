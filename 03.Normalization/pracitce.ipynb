{
 "cells": [
  {
   "cell_type": "code",
   "execution_count": 9,
   "metadata": {},
   "outputs": [],
   "source": [
    "from nltk.stem import WordNetLemmatizer\n",
    "from nltk.tokenize import word_tokenize\n",
    "from nltk.tokenize import WordPunctTokenizer"
   ]
  },
  {
   "cell_type": "code",
   "execution_count": 10,
   "metadata": {},
   "outputs": [],
   "source": [
    "text = 'My cat loves to eat dry chicken treats. He was so sad yesterday because he ate all the treats and there are no more for him to eat.'"
   ]
  },
  {
   "cell_type": "code",
   "execution_count": 15,
   "metadata": {},
   "outputs": [
    {
     "name": "stdout",
     "output_type": "stream",
     "text": [
      "['My', 'cat', 'loves', 'to', 'eat', 'dry', 'chicken', 'treats', '.', 'He', 'was', 'so', 'sad', 'yesterday', 'because', 'he', 'ate', 'all', 'the', 'treats', 'and', 'there', 'are', 'no', 'more', 'for', 'him', 'to', 'eat', '.']\n"
     ]
    }
   ],
   "source": [
    "t_list = WordPunctTokenizer().tokenize(text)\n",
    "print(t_list)"
   ]
  },
  {
   "cell_type": "code",
   "execution_count": 16,
   "metadata": {},
   "outputs": [
    {
     "name": "stdout",
     "output_type": "stream",
     "text": [
      "['My', 'cat', 'love', 'to', 'eat', 'dry', 'chicken', 'treat', '.', 'He', 'wa', 'so', 'sad', 'yesterday', 'because', 'he', 'ate', 'all', 'the', 'treat', 'and', 'there', 'are', 'no', 'more', 'for', 'him', 'to', 'eat', '.']\n"
     ]
    }
   ],
   "source": [
    "lmt = WordNetLemmatizer()\n",
    "print([lmt.lemmatize(word) for word in t_list])"
   ]
  },
  {
   "cell_type": "markdown",
   "metadata": {},
   "source": [
    "- 표제어 추출은 어간추출과는 달리 단어의 형태가 적절히 보존\n",
    "\n",
    "- 위의 결과에서 was -> wa 처럼 의미를 알 수 없는 단어를 출력\n",
    "\n",
    "    - 표제어 추출기가 본래 단어의 품사 정보를 알아야만 정확한 결과를 얻을 수 있음\n",
    "\n",
    "- 이는 입력 단어가 동사 품사라는 것을 알려주면 더 정확한 Lemma를 출력하게 됨"
   ]
  },
  {
   "cell_type": "code",
   "execution_count": 17,
   "metadata": {},
   "outputs": [
    {
     "data": {
      "text/plain": [
       "'be'"
      ]
     },
     "execution_count": 17,
     "metadata": {},
     "output_type": "execute_result"
    }
   ],
   "source": [
    "lmt.lemmatize('was','v')"
   ]
  },
  {
   "cell_type": "code",
   "execution_count": 20,
   "metadata": {},
   "outputs": [
    {
     "name": "stdout",
     "output_type": "stream",
     "text": [
      "['My', 'cat', 'loves', 'to', 'eat', 'dry', 'chicken', 'treats', '.', 'He', 'was', 'so', 'sad', 'yesterday', 'because', 'he', 'ate', 'all', 'the', 'treats', 'and', 'there', 'are', 'no', 'more', 'for', 'him', 'to', 'eat', '.']\n"
     ]
    }
   ],
   "source": [
    "from nltk.stem import PorterStemmer\n",
    "from nltk.tokenize import word_tokenize\n",
    "\n",
    "print(t_list)"
   ]
  },
  {
   "cell_type": "code",
   "execution_count": 19,
   "metadata": {},
   "outputs": [
    {
     "name": "stdout",
     "output_type": "stream",
     "text": [
      "['my', 'cat', 'love', 'to', 'eat', 'dri', 'chicken', 'treat', '.', 'he', 'wa', 'so', 'sad', 'yesterday', 'becaus', 'he', 'ate', 'all', 'the', 'treat', 'and', 'there', 'are', 'no', 'more', 'for', 'him', 'to', 'eat', '.']\n"
     ]
    }
   ],
   "source": [
    "stm = PorterStemmer()\n",
    "print([stm.stem(word) for word in t_list])"
   ]
  },
  {
   "cell_type": "markdown",
   "metadata": {},
   "source": [
    "- 포터 알고리즘의 어간 추출은 아래의 방법 사용\n",
    "    - -ALIZE에서 IZE제거 -> -AL\n",
    "    - -ANCE에서 ANCE제거 -> -\n",
    "    - -ICAL에서 AL제거 => -IC"
   ]
  },
  {
   "cell_type": "code",
   "execution_count": 23,
   "metadata": {},
   "outputs": [
    {
     "name": "stdout",
     "output_type": "stream",
     "text": [
      "Before:  ['formalize', 'allowance', 'magical']\n",
      "After:  ['formal', 'allow', 'magic']\n"
     ]
    }
   ],
   "source": [
    "# 그 결과\n",
    "words = ['formalize', 'allowance', 'magical']\n",
    "print('Before: ', words)\n",
    "print('After: ', [stm.stem(word) for word in words])"
   ]
  },
  {
   "cell_type": "code",
   "execution_count": 24,
   "metadata": {},
   "outputs": [
    {
     "name": "stdout",
     "output_type": "stream",
     "text": [
      "['my', 'cat', 'love', 'to', 'eat', 'dri', 'chicken', 'treat', '.', 'he', 'wa', 'so', 'sad', 'yesterday', 'becaus', 'he', 'ate', 'all', 'the', 'treat', 'and', 'there', 'are', 'no', 'more', 'for', 'him', 'to', 'eat', '.']\n",
      "['my', 'cat', 'lov', 'to', 'eat', 'dry', 'chick', 'tre', '.', 'he', 'was', 'so', 'sad', 'yesterday', 'becaus', 'he', 'at', 'al', 'the', 'tre', 'and', 'ther', 'ar', 'no', 'mor', 'for', 'him', 'to', 'eat', '.']\n"
     ]
    }
   ],
   "source": [
    "from nltk.stem import LancasterStemmer\n",
    "lstm = LancasterStemmer()\n",
    "print([stm.stem(word) for word in t_list])\n",
    "print([lstm.stem(word) for word in t_list])"
   ]
  },
  {
   "cell_type": "markdown",
   "metadata": {},
   "source": [
    "- PorterStemmer 방법이 LancasterStemmer 방법보다 조금 더 잘 추출됨"
   ]
  }
 ],
 "metadata": {
  "kernelspec": {
   "display_name": "jkdev",
   "language": "python",
   "name": "python3"
  },
  "language_info": {
   "codemirror_mode": {
    "name": "ipython",
    "version": 3
   },
   "file_extension": ".py",
   "mimetype": "text/x-python",
   "name": "python",
   "nbconvert_exporter": "python",
   "pygments_lexer": "ipython3",
   "version": "3.9.18"
  }
 },
 "nbformat": 4,
 "nbformat_minor": 2
}
