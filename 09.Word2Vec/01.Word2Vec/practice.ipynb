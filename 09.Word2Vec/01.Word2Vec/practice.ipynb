{
 "cells": [
  {
   "cell_type": "code",
   "execution_count": 2,
   "metadata": {},
   "outputs": [
    {
     "name": "stdout",
     "output_type": "stream",
     "text": [
      "[[-1.12220018  0.10847743 -1.38103142]\n",
      " [ 2.19010675  1.14136637 -0.46682956]\n",
      " [-0.20403903 -1.87331293 -1.27574156]\n",
      " [ 0.75602748 -0.65024005 -0.83220733]\n",
      " [ 1.73752952  0.22567256 -0.59049944]\n",
      " [-1.04225394  1.01108333 -0.66054859]\n",
      " [ 0.06361437 -0.44961561 -0.76429509]]\n",
      "[[-1.12220018  0.10847743 -1.38103142]]\n"
     ]
    }
   ],
   "source": [
    "import numpy as np \n",
    "\n",
    "c= np.array([[1,0,0,0,0,0,0]])\n",
    "W = np.random.randn(7,3)\n",
    "h = np.matmul(c,W)\n",
    "print(W)\n",
    "print(h)"
   ]
  },
  {
   "cell_type": "code",
   "execution_count": null,
   "metadata": {},
   "outputs": [],
   "source": []
  }
 ],
 "metadata": {
  "kernelspec": {
   "display_name": "jkdev",
   "language": "python",
   "name": "python3"
  },
  "language_info": {
   "codemirror_mode": {
    "name": "ipython",
    "version": 3
   },
   "file_extension": ".py",
   "mimetype": "text/x-python",
   "name": "python",
   "nbconvert_exporter": "python",
   "pygments_lexer": "ipython3",
   "version": "3.9.18"
  }
 },
 "nbformat": 4,
 "nbformat_minor": 2
}
