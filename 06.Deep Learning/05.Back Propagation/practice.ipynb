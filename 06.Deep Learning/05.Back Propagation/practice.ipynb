{
 "cells": [
  {
   "cell_type": "markdown",
   "metadata": {},
   "source": [
    "### 순전파와 역전파 구현"
   ]
  },
  {
   "cell_type": "code",
   "execution_count": 1,
   "metadata": {},
   "outputs": [],
   "source": [
    "import numpy as np"
   ]
  },
  {
   "cell_type": "markdown",
   "metadata": {},
   "source": [
    "- 먼저 곱셈 계층 구현"
   ]
  },
  {
   "cell_type": "code",
   "execution_count": 6,
   "metadata": {},
   "outputs": [],
   "source": [
    "class Multiply_Layer:\n",
    "    def __init__(self):\n",
    "        self.x = None \n",
    "        self.y = None \n",
    "    \n",
    "    def forward(self, x ,y):\n",
    "        self.x = x \n",
    "        self.y = y \n",
    "        out = x * y \n",
    "        return out \n",
    "    \n",
    "    def backward(self, dout):\n",
    "        dx = dout * self.y \n",
    "        dy = dout * self.x \n",
    "        return dx, dy "
   ]
  },
  {
   "cell_type": "markdown",
   "metadata": {},
   "source": [
    "- Case 1. 100원짜리 사과 2개를 구입. 구입 후에는 세금 10%를 더 내야함\n",
    "\n",
    "    - 100(사과) x 2(사과 개수) -> 200(총 값) x 1.1(세금) -> 220(최종값) \n",
    "\n",
    "- 먼저 순전파 구현"
   ]
  },
  {
   "cell_type": "code",
   "execution_count": 7,
   "metadata": {},
   "outputs": [],
   "source": [
    "apple = 100 \n",
    "num_apple = 2 \n",
    "tax = 1.1 "
   ]
  },
  {
   "cell_type": "code",
   "execution_count": 8,
   "metadata": {},
   "outputs": [],
   "source": [
    "mul_apple_layer = Multiply_Layer()\n",
    "mul_tax_layer = Multiply_Layer()"
   ]
  },
  {
   "cell_type": "code",
   "execution_count": 9,
   "metadata": {},
   "outputs": [
    {
     "name": "stdout",
     "output_type": "stream",
     "text": [
      "220.00000000000003\n"
     ]
    }
   ],
   "source": [
    "apple_price = mul_apple_layer.forward(apple, num_apple)\n",
    "price = mul_tax_layer.forward(apple_price, tax)\n",
    "print(price)"
   ]
  },
  {
   "cell_type": "markdown",
   "metadata": {},
   "source": [
    "- 이제 역전파 구현\n",
    "\n",
    "- 220 -> 1.1(세금) x 200(총 값) -> 100(사과) x 2(사과 개수)"
   ]
  },
  {
   "cell_type": "code",
   "execution_count": 10,
   "metadata": {},
   "outputs": [
    {
     "name": "stdout",
     "output_type": "stream",
     "text": [
      "2.2 110.00000000000001 200\n"
     ]
    }
   ],
   "source": [
    "deprice = 1 \n",
    "dapple_price, dtax = mul_tax_layer.backward(deprice)\n",
    "dapple, dnum_apple = mul_apple_layer.backward(dapple_price)\n",
    "print(dapple, dnum_apple, dtax)"
   ]
  },
  {
   "cell_type": "markdown",
   "metadata": {},
   "source": [
    "- 덧셈 계층 구현"
   ]
  },
  {
   "cell_type": "code",
   "execution_count": 11,
   "metadata": {},
   "outputs": [],
   "source": [
    "class Add_Layer:\n",
    "    \n",
    "    def __init__(self):\n",
    "        pass  \n",
    "        \n",
    "    def forward(self, x,y):\n",
    "        out = x + y \n",
    "        return out\n",
    "    \n",
    "    def backward(self, dout):\n",
    "        dx = dout * 1 \n",
    "        dy = dout * 1 \n",
    "        return dx, dy  "
   ]
  },
  {
   "cell_type": "markdown",
   "metadata": {},
   "source": [
    "- Case 2. 100원짜리 사과 2개와 150원짜리 오렌지 3개를 구입. 구입 후에는 세금 10%를 더 내야함\n",
    "\n",
    "    - [100(사과) x 2(사과 개수)] + [150(오렌지) x 3(오렌지 개수)] -> 650(총 값) x 1.1(세금) -> 715(최종값) \n",
    "\n",
    "- 먼저 순전파 구현"
   ]
  },
  {
   "cell_type": "code",
   "execution_count": 12,
   "metadata": {},
   "outputs": [],
   "source": [
    "mul_apple_layer = Multiply_Layer()\n",
    "mul_orange_layer = Multiply_Layer()\n",
    "add_price_layer = Add_Layer()\n",
    "mul_tax_layer = Multiply_Layer()"
   ]
  },
  {
   "cell_type": "code",
   "execution_count": 13,
   "metadata": {},
   "outputs": [],
   "source": [
    "apple = 100 \n",
    "numb_apple = 2 \n",
    "orange = 150\n",
    "numb_orange = 3 \n",
    "tax = 1.1 \n"
   ]
  },
  {
   "cell_type": "code",
   "execution_count": 15,
   "metadata": {},
   "outputs": [
    {
     "name": "stdout",
     "output_type": "stream",
     "text": [
      "715.0000000000001\n"
     ]
    }
   ],
   "source": [
    "apple_price = mul_apple_layer.forward(apple, numb_apple)\n",
    "orange_price = mul_orange_layer.forward(orange, numb_orange)\n",
    "added_price = add_price_layer.forward(apple_price, orange_price)\n",
    "total_price = mul_tax_layer.forward(added_price, tax)\n",
    "print(total_price)"
   ]
  },
  {
   "cell_type": "markdown",
   "metadata": {},
   "source": [
    "- 이제 역전파 구현\n",
    "\n",
    "- 715(최종값) -> 1.1(세금) x 650(총 값)  -> [100(사과) x 2(사과 개수)] + [150(오렌지) x 3(오렌지 개수)] "
   ]
  },
  {
   "cell_type": "code",
   "execution_count": 16,
   "metadata": {},
   "outputs": [
    {
     "name": "stdout",
     "output_type": "stream",
     "text": [
      "650 1.1 1.1 1.1 2.2 110.00000000000001 3.3000000000000003 165.0\n"
     ]
    }
   ],
   "source": [
    "deprice = 1 \n",
    "d_added_price, d_tax = mul_tax_layer.backward(deprice)\n",
    "d_apple_price, d_orange_price = add_price_layer.backward(d_added_price)\n",
    "d_apple, d_numb_apple = mul_apple_layer.backward(d_apple_price)\n",
    "d_orange, d_numb_ornage = mul_orange_layer.backward(d_orange_price)\n",
    "\n",
    "print(d_tax, d_added_price, d_apple_price, d_orange_price, d_apple, d_numb_apple, d_orange, d_numb_ornage)"
   ]
  },
  {
   "cell_type": "markdown",
   "metadata": {},
   "source": [
    "### Relu 함수 순전파 역전파 구현"
   ]
  },
  {
   "cell_type": "code",
   "execution_count": 25,
   "metadata": {},
   "outputs": [],
   "source": [
    "class ReLU:\n",
    "    def __init__(self):\n",
    "        self.mask = None \n",
    "        \n",
    "    def forward(self, x):\n",
    "        self.mask = (x<=0)\n",
    "        out = x.copy()\n",
    "        out[self.mask] = 0 \n",
    "        return out \n",
    "    \n",
    "    def backward(self, dout):\n",
    "        dout[self.mask] = 0 \n",
    "        dx = dout \n",
    "        return dx "
   ]
  },
  {
   "cell_type": "code",
   "execution_count": 22,
   "metadata": {},
   "outputs": [
    {
     "name": "stdout",
     "output_type": "stream",
     "text": [
      "[[ 1.  -0.5]\n",
      " [-2.3  3.1]]\n",
      "[[False  True]\n",
      " [ True False]]\n",
      "[[1.  0. ]\n",
      " [0.  3.1]]\n"
     ]
    }
   ],
   "source": [
    "x = np.array([[1.0,-0.5],[-2.3,3.1]])\n",
    "print(x)\n",
    "mask = (x<=0)\n",
    "print(mask)\n",
    "out =x.copy()\n",
    "out[mask] = False # or 0\n",
    "print(out)"
   ]
  },
  {
   "cell_type": "code",
   "execution_count": 26,
   "metadata": {},
   "outputs": [
    {
     "name": "stdout",
     "output_type": "stream",
     "text": [
      "[[1.  0. ]\n",
      " [0.  3.1]]\n"
     ]
    }
   ],
   "source": [
    "x = np.array([[1.0,-0.5],[-2.3,3.1]])\n",
    "test = ReLU()\n",
    "outVal = test.forward(x)\n",
    "print(outVal)\n"
   ]
  },
  {
   "cell_type": "code",
   "execution_count": 28,
   "metadata": {},
   "outputs": [
    {
     "name": "stdout",
     "output_type": "stream",
     "text": [
      "[[1.  0. ]\n",
      " [0.  3.1]]\n"
     ]
    }
   ],
   "source": [
    "dout = outVal\n",
    "d_outVal = test.backward(dout)\n",
    "print(d_outVal)"
   ]
  },
  {
   "cell_type": "markdown",
   "metadata": {},
   "source": [
    "### Sigmoid 함수 순전파 & 역전파"
   ]
  },
  {
   "cell_type": "code",
   "execution_count": 29,
   "metadata": {},
   "outputs": [],
   "source": [
    "class Sigmoid_layer:\n",
    "    \n",
    "    def __init__(self):\n",
    "        self.out = None \n",
    "    \n",
    "    def foward(self, x):\n",
    "        out = 1/(1+np.exp(-x))\n",
    "        self.out = out \n",
    "        return out \n",
    "    \n",
    "    def backward(self, dout):\n",
    "        dx = dout*(1.0-self.out)*self.out\n",
    "        return dx"
   ]
  }
 ],
 "metadata": {
  "kernelspec": {
   "display_name": "jkdev",
   "language": "python",
   "name": "python3"
  },
  "language_info": {
   "codemirror_mode": {
    "name": "ipython",
    "version": 3
   },
   "file_extension": ".py",
   "mimetype": "text/x-python",
   "name": "python",
   "nbconvert_exporter": "python",
   "pygments_lexer": "ipython3",
   "version": "3.9.18"
  }
 },
 "nbformat": 4,
 "nbformat_minor": 2
}
