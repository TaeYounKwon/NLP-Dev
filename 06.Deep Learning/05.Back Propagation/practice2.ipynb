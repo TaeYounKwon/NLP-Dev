{
 "cells": [
  {
   "cell_type": "markdown",
   "metadata": {},
   "source": [
    "### Affine/Softmax 순전파 & 역전파\n"
   ]
  },
  {
   "cell_type": "code",
   "execution_count": 1,
   "metadata": {},
   "outputs": [],
   "source": [
    "import numpy as np "
   ]
  },
  {
   "cell_type": "code",
   "execution_count": 5,
   "metadata": {},
   "outputs": [
    {
     "name": "stdout",
     "output_type": "stream",
     "text": [
      "[[0.35349765 0.67616949]\n",
      " [0.10260269 0.0992621 ]] (2, 2)\n",
      "[[0.79045881 0.57392484 0.41013021]\n",
      " [0.46727912 0.87394405 0.48190783]] (2, 3)\n",
      "[[0.59538521 0.79381538 0.47083144]\n",
      " [0.12748631 0.14563575 0.08991564]] (2, 3)\n",
      "[0.12974405 0.52064067 0.38176506] (3,)\n"
     ]
    }
   ],
   "source": [
    "x = np.random.rand(2,2)\n",
    "w = np.random.rand(2,3)\n",
    "result = np.dot(x,w)\n",
    "b = np.random.rand(3)\n",
    "\n",
    "print(x,x.shape)\n",
    "print(w, w.shape)\n",
    "print(result, result.shape)\n",
    "print(b, b.shape)"
   ]
  },
  {
   "cell_type": "code",
   "execution_count": 2,
   "metadata": {},
   "outputs": [
    {
     "name": "stdout",
     "output_type": "stream",
     "text": [
      "[0.60167803 0.36783849] (2,)\n",
      "[[0.61770655 0.28791988 0.3156443 ]\n",
      " [0.84759521 0.42568432 0.63525221]] (2, 3)\n",
      "[0.86441089 0.23970605 0.21987286] (3,)\n"
     ]
    }
   ],
   "source": [
    "x = np.random.rand(2)\n",
    "w = np.random.rand(2,3)\n",
    "b = np.random.rand(3)\n",
    "\n",
    "print(x,x.shape)\n",
    "print(w, w.shape)\n",
    "print(b, b.shape)"
   ]
  },
  {
   "cell_type": "code",
   "execution_count": null,
   "metadata": {},
   "outputs": [],
   "source": []
  }
 ],
 "metadata": {
  "kernelspec": {
   "display_name": "jkdev",
   "language": "python",
   "name": "python3"
  },
  "language_info": {
   "codemirror_mode": {
    "name": "ipython",
    "version": 3
   },
   "file_extension": ".py",
   "mimetype": "text/x-python",
   "name": "python",
   "nbconvert_exporter": "python",
   "pygments_lexer": "ipython3",
   "version": "3.9.18"
  }
 },
 "nbformat": 4,
 "nbformat_minor": 2
}
