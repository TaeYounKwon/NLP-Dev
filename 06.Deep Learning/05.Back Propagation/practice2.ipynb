{
 "cells": [
  {
   "cell_type": "markdown",
   "metadata": {},
   "source": [
    "### Affine 순전파 & 역전파\n"
   ]
  },
  {
   "cell_type": "code",
   "execution_count": 1,
   "metadata": {},
   "outputs": [],
   "source": [
    "import numpy as np "
   ]
  },
  {
   "cell_type": "code",
   "execution_count": 5,
   "metadata": {},
   "outputs": [
    {
     "name": "stdout",
     "output_type": "stream",
     "text": [
      "[[0.35349765 0.67616949]\n",
      " [0.10260269 0.0992621 ]] (2, 2)\n",
      "[[0.79045881 0.57392484 0.41013021]\n",
      " [0.46727912 0.87394405 0.48190783]] (2, 3)\n",
      "[[0.59538521 0.79381538 0.47083144]\n",
      " [0.12748631 0.14563575 0.08991564]] (2, 3)\n",
      "[0.12974405 0.52064067 0.38176506] (3,)\n"
     ]
    }
   ],
   "source": [
    "x = np.random.rand(2,2)\n",
    "w = np.random.rand(2,3)\n",
    "result = np.dot(x,w)\n",
    "b = np.random.rand(3)\n",
    "\n",
    "print(x,x.shape)\n",
    "print(w, w.shape)\n",
    "print(result, result.shape)\n",
    "print(b, b.shape)"
   ]
  },
  {
   "cell_type": "code",
   "execution_count": 2,
   "metadata": {},
   "outputs": [
    {
     "name": "stdout",
     "output_type": "stream",
     "text": [
      "[0.60167803 0.36783849] (2,)\n",
      "[[0.61770655 0.28791988 0.3156443 ]\n",
      " [0.84759521 0.42568432 0.63525221]] (2, 3)\n",
      "[0.86441089 0.23970605 0.21987286] (3,)\n"
     ]
    }
   ],
   "source": [
    "x = np.random.rand(2)\n",
    "w = np.random.rand(2,3)\n",
    "b = np.random.rand(3)\n",
    "\n",
    "print(x,x.shape)\n",
    "print(w, w.shape)\n",
    "print(b, b.shape)"
   ]
  },
  {
   "cell_type": "code",
   "execution_count": 7,
   "metadata": {},
   "outputs": [
    {
     "name": "stdout",
     "output_type": "stream",
     "text": [
      "[0.10303939 0.78895066 0.13667582] (3,)\n",
      "[[0.86997449]\n",
      " [0.04111377]\n",
      " [0.89734416]] (3, 1)\n",
      "[[0.63568962 0.92314442 0.63220714]] (1, 3)\n"
     ]
    }
   ],
   "source": [
    "x = np.random.rand(3,)\n",
    "y = np.random.rand(3,1)\n",
    "z = np.random.rand(1,3)\n",
    "print(x, x.shape)\n",
    "print(y, y.shape)\n",
    "print(z, z.shape)"
   ]
  },
  {
   "cell_type": "code",
   "execution_count": 8,
   "metadata": {},
   "outputs": [],
   "source": [
    "class Affine:\n",
    "    def __init__(self, w, b):\n",
    "        self.w = w \n",
    "        self.b = b\n",
    "        self.x = None \n",
    "        self.dw = None \n",
    "        self.db = None \n",
    "        \n",
    "    def forward(self, x):\n",
    "        self.x = x \n",
    "        out = np.dot(x, self.w) + self.b \n",
    "        return out \n",
    "    \n",
    "    def backward(self, dout):\n",
    "        dx = np.dot(dout, self.w.T) # 여기서 대문자 'T'는 전치행렬을 뜻함, 혹은 np.transpose(w) 또는 np.swapaxes(w,0,1)로 정의 가능 \n",
    "        self.dw = np.dot(self.x.T, dout)\n",
    "        self.db = np.sum(dout, axis=0)\n",
    "        "
   ]
  },
  {
   "cell_type": "markdown",
   "metadata": {},
   "source": [
    "### 소프트맥스 함수 순전파 & 역전파"
   ]
  },
  {
   "cell_type": "code",
   "execution_count": 10,
   "metadata": {},
   "outputs": [],
   "source": [
    "def softmax(x):\n",
    "    c = np.max(x)\n",
    "    exp_x = np.exp(x-c)\n",
    "    sum_exp_x = np.sum(exp_x)\n",
    "    y = exp_x/sum_exp_x\n",
    "    \n",
    "    return y\n",
    "\n",
    "def cross_entropy_error(y, t):\n",
    "    delta = 1e-7\n",
    "    return -np.sum(t*np.log(y+delta))\n",
    "\n",
    "\n",
    "class SoftmaxWithLoss:\n",
    "    def __init__(self):\n",
    "        self.loss = None # loss\n",
    "        self.y = None # output of softmax function\n",
    "        self.t = None # One-hot vector answer label\n",
    "        \n",
    "    def forward(self, x, t):\n",
    "        self.t = t \n",
    "        self.y = softmax(x)\n",
    "        self.loss = cross_entropy_error(self.y, self.t)\n",
    "        return self.loss \n",
    "    \n",
    "    def backward(self, dout=1):\n",
    "        batch_size = self.t.shape[0]\n",
    "        dx = (self.y - self.t) / batch_size \n",
    "        \n",
    "        return dx "
   ]
  },
  {
   "cell_type": "code",
   "execution_count": null,
   "metadata": {},
   "outputs": [],
   "source": []
  }
 ],
 "metadata": {
  "kernelspec": {
   "display_name": "jkdev",
   "language": "python",
   "name": "python3"
  },
  "language_info": {
   "codemirror_mode": {
    "name": "ipython",
    "version": 3
   },
   "file_extension": ".py",
   "mimetype": "text/x-python",
   "name": "python",
   "nbconvert_exporter": "python",
   "pygments_lexer": "ipython3",
   "version": "3.9.18"
  }
 },
 "nbformat": 4,
 "nbformat_minor": 2
}
