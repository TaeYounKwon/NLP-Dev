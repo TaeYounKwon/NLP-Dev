{
 "cells": [
  {
   "cell_type": "markdown",
   "metadata": {},
   "source": [
    "### 기초 텐서 실습"
   ]
  },
  {
   "cell_type": "code",
   "execution_count": 1,
   "metadata": {},
   "outputs": [],
   "source": [
    "import numpy as np"
   ]
  },
  {
   "cell_type": "markdown",
   "metadata": {},
   "source": [
    "### 0차원"
   ]
  },
  {
   "cell_type": "code",
   "execution_count": 18,
   "metadata": {},
   "outputs": [
    {
     "name": "stdout",
     "output_type": "stream",
     "text": [
      "5\n",
      "0\n",
      "()\n"
     ]
    }
   ],
   "source": [
    "# 0차원\n",
    "d = np.array(5)\n",
    "print(d)\n",
    "print(d.ndim) # axis의 개수 or 텐서의 차원\n",
    "print(d.shape) # 텐서의 크기"
   ]
  },
  {
   "cell_type": "markdown",
   "metadata": {},
   "source": [
    "### 1차원"
   ]
  },
  {
   "cell_type": "code",
   "execution_count": 20,
   "metadata": {},
   "outputs": [
    {
     "name": "stdout",
     "output_type": "stream",
     "text": [
      "텐서의 차원 : 1\n",
      "텐서의 크기(shape) : (4,)\n"
     ]
    }
   ],
   "source": [
    "d = np.array([1, 2, 3, 4])\n",
    "print('텐서의 차원 :',d.ndim)\n",
    "print('텐서의 크기(shape) :',d.shape)"
   ]
  },
  {
   "cell_type": "markdown",
   "metadata": {},
   "source": [
    "- 1차원 텐서이지만\n",
    "\n",
    "    - 텐서에서의 차원은 축의 개수\n",
    "\n",
    "- 4차원 벡터이다\n",
    "\n",
    "    - 벡터에서의 차원은 하나의 축에 놓인 원소의 개수"
   ]
  },
  {
   "cell_type": "markdown",
   "metadata": {},
   "source": [
    "### 2차원"
   ]
  },
  {
   "cell_type": "code",
   "execution_count": 21,
   "metadata": {},
   "outputs": [
    {
     "name": "stdout",
     "output_type": "stream",
     "text": [
      "텐서의 차원 : 2\n",
      "텐서의 크기(shape) : (3, 4)\n"
     ]
    }
   ],
   "source": [
    "d = np.array([[1, 2, 3, 4], [5, 6, 7, 8], [9, 10, 11, 12]])\n",
    "print('텐서의 차원 :',d.ndim)\n",
    "print('텐서의 크기(shape) :',d.shape)"
   ]
  },
  {
   "cell_type": "markdown",
   "metadata": {},
   "source": [
    "- 행과 열이 존재하는 벡터의 배열, 행렬(Matrix)을 2차원 텐서라고 함\n",
    "\n",
    "- 3개의 커다란 데이터가 있는데, 각 데이터에는 작은 데이터 4개가 존재\n",
    "\n",
    "- np.array의 내부에 shape이 다 다르면\n",
    "\n",
    "    - 예를 들면, 1,2,3,4가 아니라 1,2만 있다면\n",
    "\n",
    "    - ValueError: Inhomogeneous 에러 발생\n"
   ]
  },
  {
   "cell_type": "markdown",
   "metadata": {},
   "source": [
    "### 3차원"
   ]
  },
  {
   "cell_type": "code",
   "execution_count": 26,
   "metadata": {},
   "outputs": [
    {
     "name": "stdout",
     "output_type": "stream",
     "text": [
      "텐서의 차원 : 3\n",
      "텐서의 크기(shape) : (2, 3, 5)\n"
     ]
    }
   ],
   "source": [
    "d = np.array([\n",
    "            [[1, 2, 3, 4, 5], [6, 7, 8, 9, 10], [10, 11, 12, 13, 14]],\n",
    "            [[15, 16, 17, 18, 19], [19, 20, 21, 22, 23], [23, 24, 25, 26, 27]]\n",
    "            ])\n",
    "print('텐서의 차원 :',d.ndim)\n",
    "print('텐서의 크기(shape) :',d.shape)"
   ]
  },
  {
   "cell_type": "markdown",
   "metadata": {},
   "source": [
    "- 행렬 또는 2차원 텐서를 단위로 한번 더 배열하면 3차원 텐서\n",
    "\n",
    "    - 3D 텐서라고도 부름\n",
    "\n",
    "- 0~2차원 첸서는 각각 스칼라, 벡터, 행렬이라고 해도 무방하므로 3차원 이상의 텐서부터 찐 텐서\n",
    "\n",
    "\n"
   ]
  },
  {
   "cell_type": "code",
   "execution_count": 30,
   "metadata": {},
   "outputs": [
    {
     "name": "stdout",
     "output_type": "stream",
     "text": [
      "텐서의 차원 : 3\n",
      "텐서의 크기(shape) : (3, 3, 6)\n"
     ]
    }
   ],
   "source": [
    "# NLP에서 3차원 텐서가 쓰이는 예를 보자면\n",
    "text1 = 'I like NLP'\n",
    "text2 = 'I like DL'\n",
    "text3 = 'DL is AI'\n",
    "\n",
    "# 이제 이 문장들을 One-Hot-Vector화 시켜주면\n",
    "'''\n",
    "I = [1 0 0 0 0 0]\n",
    "like = [0 1 0 0 0]\n",
    "...\n",
    "AI = [0 0 0 0 0 1]\n",
    "'''\n",
    "# 위의 데이터로 각 문장을 벡터화 시키면 결국 Final Input은\n",
    "f_oh_vector = np.array([[[1, 0, 0, 0, 0, 0], [0, 1, 0, 0, 0, 0], [0, 0, 1, 0, 0, 0]],  \n",
    "[[1, 0, 0, 0, 0, 0], [0, 1, 0, 0, 0, 0], [0, 0, 0, 1, 0, 0]],  \n",
    "[[0, 0, 0, 1, 0, 0], [0, 0, 0, 0, 1, 0], [0, 0, 0, 0, 0, 1]]]  )\n",
    "\n",
    "print('텐서의 차원 :',f_oh_vector.ndim)\n",
    "print('텐서의 크기(shape) :',f_oh_vector.shape)\n"
   ]
  },
  {
   "cell_type": "markdown",
   "metadata": {},
   "source": [
    "### Keras에서의 텐서"
   ]
  },
  {
   "cell_type": "code",
   "execution_count": 33,
   "metadata": {},
   "outputs": [],
   "source": [
    "from keras.models import Sequential\n",
    "from keras.layers import Dense"
   ]
  },
  {
   "cell_type": "code",
   "execution_count": 36,
   "metadata": {},
   "outputs": [
    {
     "name": "stdout",
     "output_type": "stream",
     "text": [
      "Model: \"sequential_2\"\n",
      "_________________________________________________________________\n",
      " Layer (type)                Output Shape              Param #   \n",
      "=================================================================\n",
      " dense_3 (Dense)             (None, 8, 2, 256)         2816      \n",
      "                                                                 \n",
      " dense_4 (Dense)             (None, 8, 2, 10)          2570      \n",
      "                                                                 \n",
      "=================================================================\n",
      "Total params: 5,386\n",
      "Trainable params: 5,386\n",
      "Non-trainable params: 0\n",
      "_________________________________________________________________\n"
     ]
    }
   ],
   "source": [
    "model = Sequential()\n",
    "# keras에서는 input_shape을 사용하여 신경망의 층에 입력크기를 인자로 줌\n",
    "# input_shape(input_length,input_dim)\n",
    "model.add(Dense(256,activation='relu', input_shape=(8,2,10)))\n",
    "model.add(Dense(10, activation='softmax'))\n",
    "model.summary()\n"
   ]
  },
  {
   "cell_type": "markdown",
   "metadata": {},
   "source": [
    "### 벡터와 행렬의 연산"
   ]
  },
  {
   "cell_type": "code",
   "execution_count": 38,
   "metadata": {},
   "outputs": [
    {
     "name": "stdout",
     "output_type": "stream",
     "text": [
      "두 벡터의 합 : [9 6 8]\n",
      "두 벡터의 차 : [7 2 2]\n"
     ]
    }
   ],
   "source": [
    "# 먼저 요소별 연산(Element-wise)\n",
    "a = np.array([8,4,5])\n",
    "b = np.array([1,2,3])\n",
    "print('두 벡터의 합 :',a+b)\n",
    "print('두 벡터의 차 :', a-b)"
   ]
  },
  {
   "cell_type": "code",
   "execution_count": 41,
   "metadata": {},
   "outputs": [
    {
     "name": "stdout",
     "output_type": "stream",
     "text": [
      "두 행렬의 합: \n",
      " [[15 26 37 48]\n",
      " [51 62 73 84]]\n",
      "두 행렬의 차: \n",
      " [[ 5 14 23 32]\n",
      " [49 58 67 76]]\n"
     ]
    }
   ],
   "source": [
    "A = np.array([[10, 20, 30, 40], [50, 60, 70, 80]])\n",
    "B = np.array([[5, 6, 7, 8],[1, 2, 3, 4]])\n",
    "print('두 행렬의 합: \\n', A + B)\n",
    "print('두 행렬의 차: \\n', A - B)"
   ]
  },
  {
   "cell_type": "markdown",
   "metadata": {},
   "source": [
    "### 백터의 내적과 행렬의 곱셈"
   ]
  },
  {
   "cell_type": "code",
   "execution_count": 42,
   "metadata": {},
   "outputs": [
    {
     "name": "stdout",
     "output_type": "stream",
     "text": [
      "두 벡터의 내적 : 32\n"
     ]
    }
   ],
   "source": [
    "A = np.array([1, 2, 3])\n",
    "B = np.array([4, 5, 6])\n",
    "print('두 벡터의 내적 :',np.dot(A, B))"
   ]
  },
  {
   "cell_type": "code",
   "execution_count": 44,
   "metadata": {},
   "outputs": [
    {
     "name": "stdout",
     "output_type": "stream",
     "text": [
      "두 행렬의 행렬곱 :\n",
      "[[23 31 39]\n",
      " [34 46 58]\n",
      " [45 61 77]]\n"
     ]
    }
   ],
   "source": [
    "# A의 차원의 개수 == B의 벡터(원소)의 개수\n",
    "A = np.array([[1, 3],[2, 4],[3,5]])\n",
    "B = np.array([[5, 7, 9],[6, 8, 10]])\n",
    "print('두 행렬의 행렬곱 :')\n",
    "print(np.matmul(A, B))"
   ]
  },
  {
   "cell_type": "code",
   "execution_count": null,
   "metadata": {},
   "outputs": [],
   "source": []
  }
 ],
 "metadata": {
  "kernelspec": {
   "display_name": "jkdev",
   "language": "python",
   "name": "python3"
  },
  "language_info": {
   "codemirror_mode": {
    "name": "ipython",
    "version": 3
   },
   "file_extension": ".py",
   "mimetype": "text/x-python",
   "name": "python",
   "nbconvert_exporter": "python",
   "pygments_lexer": "ipython3",
   "version": "3.9.18"
  }
 },
 "nbformat": 4,
 "nbformat_minor": 2
}
