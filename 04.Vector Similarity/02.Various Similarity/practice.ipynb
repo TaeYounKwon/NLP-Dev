{
 "cells": [
  {
   "cell_type": "markdown",
   "metadata": {},
   "source": [
    "### 먼저 tfidf로 전처리\n"
   ]
  },
  {
   "cell_type": "code",
   "execution_count": 121,
   "metadata": {},
   "outputs": [],
   "source": [
    "import numpy as np\n",
    "import pandas as pd\n",
    "from sklearn.feature_extraction.text import TfidfVectorizer\n",
    "from sklearn.metrics.pairwise import cosine_similarity\n",
    "from numpy import dot \n",
    "from numpy.linalg import norm"
   ]
  },
  {
   "cell_type": "code",
   "execution_count": 122,
   "metadata": {},
   "outputs": [],
   "source": [
    "docs = [ \n",
    "        'I love to play with my dog.',\n",
    "        'Eating dog is finally now banned in South Korea.',\n",
    "        'I like to listen music from South Korean singers.'\n",
    "        ]"
   ]
  },
  {
   "cell_type": "code",
   "execution_count": 123,
   "metadata": {},
   "outputs": [],
   "source": [
    "tfidfv = TfidfVectorizer().fit(docs)\n",
    "# print(tfidfv.transform(docs).toarray())\n",
    "# print(tfidfv.vocabulary_)\n",
    "tfidf = np.array(tfidfv.transform(docs).toarray())"
   ]
  },
  {
   "cell_type": "code",
   "execution_count": 124,
   "metadata": {},
   "outputs": [],
   "source": [
    "doc1 = np.array(tfidf[0]) \n",
    "doc2 = np.array(tfidf[1]) \n",
    "doc3 = np.array(tfidf[2]) "
   ]
  },
  {
   "cell_type": "markdown",
   "metadata": {},
   "source": [
    "### 유클리드 거리(Euclidean Distance)\n",
    "\n",
    "- 값이 낮을수록 글의 유사성이 더 높음"
   ]
  },
  {
   "cell_type": "code",
   "execution_count": 125,
   "metadata": {},
   "outputs": [],
   "source": [
    "def euclidean(x,y):\n",
    "    return np.sqrt(np.sum((x-y)**2))"
   ]
  },
  {
   "cell_type": "code",
   "execution_count": 126,
   "metadata": {},
   "outputs": [
    {
     "name": "stdout",
     "output_type": "stream",
     "text": [
      "Euclidean - Lower is Better!\n",
      "doc1 & doc2:  1.3496798568626147\n",
      "doc1 & doc3:  1.3452069876262835\n",
      "doc2 & doc3:  1.3596306737248562\n"
     ]
    }
   ],
   "source": [
    "print('Euclidean - Lower is Better!')\n",
    "print('doc1 & doc2: ',euclidean(doc1,doc2)) \n",
    "print('doc1 & doc3: ',euclidean(doc1,doc3))\n",
    "print('doc2 & doc3: ',euclidean(doc2,doc3))"
   ]
  },
  {
   "cell_type": "markdown",
   "metadata": {},
   "source": [
    "### 코사인 유사도(Cosine Similarity)"
   ]
  },
  {
   "cell_type": "code",
   "execution_count": 127,
   "metadata": {},
   "outputs": [],
   "source": [
    "def cos_similarity(doc1,doc2):\n",
    "    return dot(doc1,doc2)/(norm(doc1)*norm(doc2))"
   ]
  },
  {
   "cell_type": "code",
   "execution_count": 128,
   "metadata": {},
   "outputs": [
    {
     "name": "stdout",
     "output_type": "stream",
     "text": [
      "Cosine - Higher is better\n",
      "doc1 & doc2:  0.08918214198965577\n",
      "doc1 & doc3:  0.09520908022071004\n",
      "doc2 & doc3:  0.07570221553324695\n"
     ]
    }
   ],
   "source": [
    "print('Cosine - Higher is better')\n",
    "print('doc1 & doc2: ',cos_similarity(doc1,doc2)) \n",
    "print('doc1 & doc3: ',cos_similarity(doc1,doc3))\n",
    "print('doc2 & doc3: ',cos_similarity(doc2,doc3))"
   ]
  },
  {
   "cell_type": "markdown",
   "metadata": {},
   "source": [
    "### 자카드 유사도(Jaccard Similarity)"
   ]
  },
  {
   "cell_type": "code",
   "execution_count": 129,
   "metadata": {},
   "outputs": [],
   "source": [
    "def jaccard(doc1,doc2):\n",
    "    union = set(doc1).union(set(doc2))\n",
    "    inter = set(doc1).intersection(set(doc2))\n",
    "    return len(inter)/len(union)"
   ]
  },
  {
   "cell_type": "code",
   "execution_count": 130,
   "metadata": {},
   "outputs": [],
   "source": [
    "t_doc1 = docs[0].split()\n",
    "t_doc2 = docs[1].split()\n",
    "t_doc3 = docs[2].split()"
   ]
  },
  {
   "cell_type": "code",
   "execution_count": 131,
   "metadata": {},
   "outputs": [
    {
     "name": "stdout",
     "output_type": "stream",
     "text": [
      "Jaccard - Higher is Better!\n",
      "doc1 & doc2:  0.0\n",
      "doc1 & doc3:  0.14285714285714285\n",
      "doc2 & doc3:  0.058823529411764705\n"
     ]
    }
   ],
   "source": [
    "print('Jaccard - Higher is Better!')\n",
    "print('doc1 & doc2: ',jaccard(t_doc1,t_doc2)) \n",
    "print('doc1 & doc3: ',jaccard(t_doc1,t_doc3))\n",
    "print('doc2 & doc3: ',jaccard(t_doc2,t_doc3))\n"
   ]
  }
 ],
 "metadata": {
  "kernelspec": {
   "display_name": "jkdev",
   "language": "python",
   "name": "python3"
  },
  "language_info": {
   "codemirror_mode": {
    "name": "ipython",
    "version": 3
   },
   "file_extension": ".py",
   "mimetype": "text/x-python",
   "name": "python",
   "nbconvert_exporter": "python",
   "pygments_lexer": "ipython3",
   "version": "3.9.18"
  }
 },
 "nbformat": 4,
 "nbformat_minor": 2
}
